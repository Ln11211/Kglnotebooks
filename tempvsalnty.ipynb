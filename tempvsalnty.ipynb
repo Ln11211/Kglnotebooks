{
 "cells": [
  {
   "cell_type": "code",
   "execution_count": 1,
   "id": "0d8a5887",
   "metadata": {
    "_cell_guid": "b1076dfc-b9ad-4769-8c92-a6c4dae69d19",
    "_uuid": "8f2839f25d086af736a60e9eeb907d3b93b6e0e5",
    "execution": {
     "iopub.execute_input": "2022-11-08T10:36:01.953356Z",
     "iopub.status.busy": "2022-11-08T10:36:01.952867Z",
     "iopub.status.idle": "2022-11-08T10:36:01.980468Z",
     "shell.execute_reply": "2022-11-08T10:36:01.979451Z"
    },
    "papermill": {
     "duration": 0.035442,
     "end_time": "2022-11-08T10:36:01.983184",
     "exception": false,
     "start_time": "2022-11-08T10:36:01.947742",
     "status": "completed"
    },
    "tags": []
   },
   "outputs": [
    {
     "name": "stdout",
     "output_type": "stream",
     "text": [
      "/kaggle/input/calcofi/bottle.csv\n",
      "/kaggle/input/calcofi/cast.csv\n"
     ]
    }
   ],
   "source": [
    "# This Python 3 environment comes with many helpful analytics libraries installed\n",
    "# It is defined by the kaggle/python Docker image: https://github.com/kaggle/docker-python\n",
    "# For example, here's several helpful packages to load\n",
    "\n",
    "import numpy as np # linear algebra\n",
    "import pandas as pd # data processing, CSV file I/O (e.g. pd.read_csv)\n",
    "\n",
    "# Input data files are available in the read-only \"../input/\" directory\n",
    "# For example, running this (by clicking run or pressing Shift+Enter) will list all files under the input directory\n",
    "\n",
    "import os\n",
    "for dirname, _, filenames in os.walk('/kaggle/input'):\n",
    "    for filename in filenames:\n",
    "        print(os.path.join(dirname, filename))\n",
    "\n",
    "# You can write up to 20GB to the current directory (/kaggle/working/) that gets preserved as output when you create a version using \"Save & Run All\" \n",
    "# You can also write temporary files to /kaggle/temp/, but they won't be saved outside of the current session"
   ]
  },
  {
   "cell_type": "code",
   "execution_count": 2,
   "id": "9047ff0b",
   "metadata": {
    "execution": {
     "iopub.execute_input": "2022-11-08T10:36:01.990799Z",
     "iopub.status.busy": "2022-11-08T10:36:01.990412Z",
     "iopub.status.idle": "2022-11-08T10:36:09.839803Z",
     "shell.execute_reply": "2022-11-08T10:36:09.838687Z"
    },
    "papermill": {
     "duration": 7.855478,
     "end_time": "2022-11-08T10:36:09.841966",
     "exception": false,
     "start_time": "2022-11-08T10:36:01.986488",
     "status": "completed"
    },
    "tags": []
   },
   "outputs": [
    {
     "name": "stderr",
     "output_type": "stream",
     "text": [
      "/opt/conda/lib/python3.7/site-packages/IPython/core/interactiveshell.py:3552: DtypeWarning: Columns (47,73) have mixed types.Specify dtype option on import or set low_memory=False.\n",
      "  exec(code_obj, self.user_global_ns, self.user_ns)\n"
     ]
    },
    {
     "data": {
      "text/html": [
       "<div>\n",
       "<style scoped>\n",
       "    .dataframe tbody tr th:only-of-type {\n",
       "        vertical-align: middle;\n",
       "    }\n",
       "\n",
       "    .dataframe tbody tr th {\n",
       "        vertical-align: top;\n",
       "    }\n",
       "\n",
       "    .dataframe thead th {\n",
       "        text-align: right;\n",
       "    }\n",
       "</style>\n",
       "<table border=\"1\" class=\"dataframe\">\n",
       "  <thead>\n",
       "    <tr style=\"text-align: right;\">\n",
       "      <th></th>\n",
       "      <th>T_degC</th>\n",
       "      <th>Salnty</th>\n",
       "    </tr>\n",
       "  </thead>\n",
       "  <tbody>\n",
       "    <tr>\n",
       "      <th>count</th>\n",
       "      <td>814247.000000</td>\n",
       "      <td>814247.000000</td>\n",
       "    </tr>\n",
       "    <tr>\n",
       "      <th>mean</th>\n",
       "      <td>10.860287</td>\n",
       "      <td>33.841337</td>\n",
       "    </tr>\n",
       "    <tr>\n",
       "      <th>std</th>\n",
       "      <td>4.224930</td>\n",
       "      <td>0.461636</td>\n",
       "    </tr>\n",
       "    <tr>\n",
       "      <th>min</th>\n",
       "      <td>1.440000</td>\n",
       "      <td>28.431000</td>\n",
       "    </tr>\n",
       "    <tr>\n",
       "      <th>25%</th>\n",
       "      <td>7.750000</td>\n",
       "      <td>33.489000</td>\n",
       "    </tr>\n",
       "    <tr>\n",
       "      <th>50%</th>\n",
       "      <td>10.110000</td>\n",
       "      <td>33.866000</td>\n",
       "    </tr>\n",
       "    <tr>\n",
       "      <th>75%</th>\n",
       "      <td>13.930000</td>\n",
       "      <td>34.197000</td>\n",
       "    </tr>\n",
       "    <tr>\n",
       "      <th>max</th>\n",
       "      <td>31.140000</td>\n",
       "      <td>37.034000</td>\n",
       "    </tr>\n",
       "  </tbody>\n",
       "</table>\n",
       "</div>"
      ],
      "text/plain": [
       "              T_degC         Salnty\n",
       "count  814247.000000  814247.000000\n",
       "mean       10.860287      33.841337\n",
       "std         4.224930       0.461636\n",
       "min         1.440000      28.431000\n",
       "25%         7.750000      33.489000\n",
       "50%        10.110000      33.866000\n",
       "75%        13.930000      34.197000\n",
       "max        31.140000      37.034000"
      ]
     },
     "execution_count": 2,
     "metadata": {},
     "output_type": "execute_result"
    }
   ],
   "source": [
    "file_path='/kaggle/input/calcofi/bottle.csv'\n",
    "data=pd.read_csv(file_path)\n",
    "data_mod=data[['T_degC','Salnty']]\n",
    "data_mod=data_mod.dropna()\n",
    "data_mod.describe()"
   ]
  },
  {
   "cell_type": "code",
   "execution_count": 3,
   "id": "8dd69d51",
   "metadata": {
    "execution": {
     "iopub.execute_input": "2022-11-08T10:36:09.849905Z",
     "iopub.status.busy": "2022-11-08T10:36:09.849510Z",
     "iopub.status.idle": "2022-11-08T10:36:11.071546Z",
     "shell.execute_reply": "2022-11-08T10:36:11.069768Z"
    },
    "papermill": {
     "duration": 1.229645,
     "end_time": "2022-11-08T10:36:11.074493",
     "exception": false,
     "start_time": "2022-11-08T10:36:09.844848",
     "status": "completed"
    },
    "tags": []
   },
   "outputs": [],
   "source": [
    "X=data_mod[['T_degC']].values\n",
    "y=data_mod[['Salnty']].values\n",
    "from sklearn.model_selection import train_test_split\n",
    "traX,valX,tray,valy=train_test_split(X,y,random_state=50)"
   ]
  },
  {
   "cell_type": "code",
   "execution_count": 4,
   "id": "894c20bd",
   "metadata": {
    "execution": {
     "iopub.execute_input": "2022-11-08T10:36:11.081553Z",
     "iopub.status.busy": "2022-11-08T10:36:11.081186Z",
     "iopub.status.idle": "2022-11-08T10:36:11.205696Z",
     "shell.execute_reply": "2022-11-08T10:36:11.203737Z"
    },
    "papermill": {
     "duration": 0.131319,
     "end_time": "2022-11-08T10:36:11.208603",
     "exception": false,
     "start_time": "2022-11-08T10:36:11.077284",
     "status": "completed"
    },
    "tags": []
   },
   "outputs": [
    {
     "data": {
      "text/plain": [
       "LinearRegression()"
      ]
     },
     "execution_count": 4,
     "metadata": {},
     "output_type": "execute_result"
    }
   ],
   "source": [
    "from sklearn.linear_model import LinearRegression\n",
    "model=LinearRegression()\n",
    "model.fit(traX,tray)"
   ]
  },
  {
   "cell_type": "code",
   "execution_count": 5,
   "id": "59309a49",
   "metadata": {
    "execution": {
     "iopub.execute_input": "2022-11-08T10:36:11.217450Z",
     "iopub.status.busy": "2022-11-08T10:36:11.215816Z",
     "iopub.status.idle": "2022-11-08T10:36:11.237705Z",
     "shell.execute_reply": "2022-11-08T10:36:11.235170Z"
    },
    "papermill": {
     "duration": 0.029204,
     "end_time": "2022-11-08T10:36:11.240726",
     "exception": false,
     "start_time": "2022-11-08T10:36:11.211522",
     "status": "completed"
    },
    "tags": []
   },
   "outputs": [
    {
     "data": {
      "text/plain": [
       "(0.27907551985470963, 0.397990206545378)"
      ]
     },
     "execution_count": 5,
     "metadata": {},
     "output_type": "execute_result"
    }
   ],
   "source": [
    "from sklearn.metrics import mean_squared_error,mean_absolute_error\n",
    "predicted_vals=model.predict(valX)\n",
    "mae=mean_absolute_error(valy,predicted_vals)\n",
    "rmse=mean_squared_error(valy,predicted_vals,squared=False)\n",
    "mae,rmse"
   ]
  },
  {
   "cell_type": "code",
   "execution_count": 6,
   "id": "79c4fcfe",
   "metadata": {
    "execution": {
     "iopub.execute_input": "2022-11-08T10:36:11.249072Z",
     "iopub.status.busy": "2022-11-08T10:36:11.248607Z",
     "iopub.status.idle": "2022-11-08T10:36:12.061540Z",
     "shell.execute_reply": "2022-11-08T10:36:12.060363Z"
    },
    "papermill": {
     "duration": 0.819482,
     "end_time": "2022-11-08T10:36:12.063500",
     "exception": false,
     "start_time": "2022-11-08T10:36:11.244018",
     "status": "completed"
    },
    "tags": []
   },
   "outputs": [
    {
     "data": {
      "image/png": "[encoded data removed]",
      "text/plain": [
       "<Figure size 432x288 with 1 Axes>"
      ]
     },
     "metadata": {
      "needs_background": "light"
     },
     "output_type": "display_data"
    }
   ],
   "source": [
    "import matplotlib.pyplot as plt\n",
    "plt.scatter(valX,valy,c='r')\n",
    "plt.scatter(valX,predicted_vals,c='b')\n",
    "plt.plot(valX,predicted_vals,color='g')\n",
    "plt.xlabel('Temerature in Degree Celcius')\n",
    "plt.ylabel('Salinity')\n",
    "plt.show()"
   ]
  }
 ],
 "metadata": {
  "kernelspec": {
   "display_name": "Python 3",
   "language": "python",
   "name": "python3"
  },
  "language_info": {
   "codemirror_mode": {
    "name": "ipython",
    "version": 3
   },
   "file_extension": ".py",
   "mimetype": "text/x-python",
   "name": "python",
   "nbconvert_exporter": "python",
   "pygments_lexer": "ipython3",
   "version": "3.7.12"
  },
  "papermill": {
   "default_parameters": {},
   "duration": 19.427422,
   "end_time": "2022-11-08T10:36:12.988022",
   "environment_variables": {},
   "exception": null,
   "input_path": "__notebook__.ipynb",
   "output_path": "__notebook__.ipynb",
   "parameters": {},
   "start_time": "2022-11-08T10:35:53.560600",
   "version": "2.3.4"
  }
 },
 "nbformat": 4,
 "nbformat_minor": 5
}
