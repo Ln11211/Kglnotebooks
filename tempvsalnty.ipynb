{
 "cells": [
  {
   "cell_type": "code",
   "execution_count": 1,
   "id": "db5eb419",
   "metadata": {
    "_cell_guid": "b1076dfc-b9ad-4769-8c92-a6c4dae69d19",
    "_uuid": "8f2839f25d086af736a60e9eeb907d3b93b6e0e5",
    "execution": {
     "iopub.execute_input": "2022-11-12T13:13:09.811845Z",
     "iopub.status.busy": "2022-11-12T13:13:09.811267Z",
     "iopub.status.idle": "2022-11-12T13:13:09.834621Z",
     "shell.execute_reply": "2022-11-12T13:13:09.833584Z"
    },
    "papermill": {
     "duration": 0.033263,
     "end_time": "2022-11-12T13:13:09.837764",
     "exception": false,
     "start_time": "2022-11-12T13:13:09.804501",
     "status": "completed"
    },
    "tags": []
   },
   "outputs": [
    {
     "name": "stdout",
     "output_type": "stream",
     "text": [
      "/kaggle/input/calcofi/bottle.csv\n",
      "/kaggle/input/calcofi/cast.csv\n"
     ]
    }
   ],
   "source": [
    "# This Python 3 environment comes with many helpful analytics libraries installed\n",
    "# It is defined by the kaggle/python Docker image: https://github.com/kaggle/docker-python\n",
    "# For example, here's several helpful packages to load\n",
    "\n",
    "import numpy as np # linear algebra\n",
    "import pandas as pd # data processing, CSV file I/O (e.g. pd.read_csv)\n",
    "\n",
    "# Input data files are available in the read-only \"../input/\" directory\n",
    "# For example, running this (by clicking run or pressing Shift+Enter) will list all files under the input directory\n",
    "\n",
    "import os\n",
    "for dirname, _, filenames in os.walk('/kaggle/input'):\n",
    "    for filename in filenames:\n",
    "        print(os.path.join(dirname, filename))\n",
    "\n",
    "# You can write up to 20GB to the current directory (/kaggle/working/) that gets preserved as output when you create a version using \"Save & Run All\" \n",
    "# You can also write temporary files to /kaggle/temp/, but they won't be saved outside of the current session"
   ]
  },
  {
   "cell_type": "code",
   "execution_count": 2,
   "id": "cb98574e",
   "metadata": {
    "execution": {
     "iopub.execute_input": "2022-11-12T13:13:09.848869Z",
     "iopub.status.busy": "2022-11-12T13:13:09.847444Z",
     "iopub.status.idle": "2022-11-12T13:13:17.101954Z",
     "shell.execute_reply": "2022-11-12T13:13:17.100817Z"
    },
    "papermill": {
     "duration": 7.261771,
     "end_time": "2022-11-12T13:13:17.103906",
     "exception": false,
     "start_time": "2022-11-12T13:13:09.842135",
     "status": "completed"
    },
    "tags": []
   },
   "outputs": [
    {
     "name": "stderr",
     "output_type": "stream",
     "text": [
      "/opt/conda/lib/python3.7/site-packages/IPython/core/interactiveshell.py:3552: DtypeWarning: Columns (47,73) have mixed types.Specify dtype option on import or set low_memory=False.\n",
      "  exec(code_obj, self.user_global_ns, self.user_ns)\n"
     ]
    },
    {
     "data": {
      "text/html": [
       "<div>\n",
       "<style scoped>\n",
       "    .dataframe tbody tr th:only-of-type {\n",
       "        vertical-align: middle;\n",
       "    }\n",
       "\n",
       "    .dataframe tbody tr th {\n",
       "        vertical-align: top;\n",
       "    }\n",
       "\n",
       "    .dataframe thead th {\n",
       "        text-align: right;\n",
       "    }\n",
       "</style>\n",
       "<table border=\"1\" class=\"dataframe\">\n",
       "  <thead>\n",
       "    <tr style=\"text-align: right;\">\n",
       "      <th></th>\n",
       "      <th>T_degC</th>\n",
       "      <th>Salnty</th>\n",
       "    </tr>\n",
       "  </thead>\n",
       "  <tbody>\n",
       "    <tr>\n",
       "      <th>count</th>\n",
       "      <td>814247.000000</td>\n",
       "      <td>814247.000000</td>\n",
       "    </tr>\n",
       "    <tr>\n",
       "      <th>mean</th>\n",
       "      <td>10.860287</td>\n",
       "      <td>33.841337</td>\n",
       "    </tr>\n",
       "    <tr>\n",
       "      <th>std</th>\n",
       "      <td>4.224930</td>\n",
       "      <td>0.461636</td>\n",
       "    </tr>\n",
       "    <tr>\n",
       "      <th>min</th>\n",
       "      <td>1.440000</td>\n",
       "      <td>28.431000</td>\n",
       "    </tr>\n",
       "    <tr>\n",
       "      <th>25%</th>\n",
       "      <td>7.750000</td>\n",
       "      <td>33.489000</td>\n",
       "    </tr>\n",
       "    <tr>\n",
       "      <th>50%</th>\n",
       "      <td>10.110000</td>\n",
       "      <td>33.866000</td>\n",
       "    </tr>\n",
       "    <tr>\n",
       "      <th>75%</th>\n",
       "      <td>13.930000</td>\n",
       "      <td>34.197000</td>\n",
       "    </tr>\n",
       "    <tr>\n",
       "      <th>max</th>\n",
       "      <td>31.140000</td>\n",
       "      <td>37.034000</td>\n",
       "    </tr>\n",
       "  </tbody>\n",
       "</table>\n",
       "</div>"
      ],
      "text/plain": [
       "              T_degC         Salnty\n",
       "count  814247.000000  814247.000000\n",
       "mean       10.860287      33.841337\n",
       "std         4.224930       0.461636\n",
       "min         1.440000      28.431000\n",
       "25%         7.750000      33.489000\n",
       "50%        10.110000      33.866000\n",
       "75%        13.930000      34.197000\n",
       "max        31.140000      37.034000"
      ]
     },
     "execution_count": 2,
     "metadata": {},
     "output_type": "execute_result"
    }
   ],
   "source": [
    "file_path='/kaggle/input/calcofi/bottle.csv'\n",
    "data=pd.read_csv(file_path)\n",
    "data_mod=data[['T_degC','Salnty']]\n",
    "data_mod=data_mod.dropna()\n",
    "data_mod.describe()"
   ]
  },
  {
   "cell_type": "code",
   "execution_count": 3,
   "id": "eded8b90",
   "metadata": {
    "execution": {
     "iopub.execute_input": "2022-11-12T13:13:17.114003Z",
     "iopub.status.busy": "2022-11-12T13:13:17.113641Z",
     "iopub.status.idle": "2022-11-12T13:13:18.477076Z",
     "shell.execute_reply": "2022-11-12T13:13:18.475201Z"
    },
    "papermill": {
     "duration": 1.37153,
     "end_time": "2022-11-12T13:13:18.479722",
     "exception": false,
     "start_time": "2022-11-12T13:13:17.108192",
     "status": "completed"
    },
    "tags": []
   },
   "outputs": [],
   "source": [
    "X=data_mod[['T_degC']].values\n",
    "y=data_mod[['Salnty']].values\n",
    "from sklearn.model_selection import train_test_split\n",
    "traX,valX,tray,valy=train_test_split(X,y,random_state=50)"
   ]
  },
  {
   "cell_type": "code",
   "execution_count": 4,
   "id": "f38ca2dc",
   "metadata": {
    "execution": {
     "iopub.execute_input": "2022-11-12T13:13:18.489372Z",
     "iopub.status.busy": "2022-11-12T13:13:18.489035Z",
     "iopub.status.idle": "2022-11-12T13:13:18.617386Z",
     "shell.execute_reply": "2022-11-12T13:13:18.615822Z"
    },
    "papermill": {
     "duration": 0.136363,
     "end_time": "2022-11-12T13:13:18.620210",
     "exception": false,
     "start_time": "2022-11-12T13:13:18.483847",
     "status": "completed"
    },
    "tags": []
   },
   "outputs": [
    {
     "data": {
      "text/plain": [
       "LinearRegression()"
      ]
     },
     "execution_count": 4,
     "metadata": {},
     "output_type": "execute_result"
    }
   ],
   "source": [
    "from sklearn.linear_model import LinearRegression\n",
    "model=LinearRegression()\n",
    "model.fit(traX,tray)"
   ]
  },
  {
   "cell_type": "code",
   "execution_count": 5,
   "id": "ac34a443",
   "metadata": {
    "execution": {
     "iopub.execute_input": "2022-11-12T13:13:18.630449Z",
     "iopub.status.busy": "2022-11-12T13:13:18.630085Z",
     "iopub.status.idle": "2022-11-12T13:13:18.642730Z",
     "shell.execute_reply": "2022-11-12T13:13:18.641589Z"
    },
    "papermill": {
     "duration": 0.020656,
     "end_time": "2022-11-12T13:13:18.645364",
     "exception": false,
     "start_time": "2022-11-12T13:13:18.624708",
     "status": "completed"
    },
    "tags": []
   },
   "outputs": [
    {
     "data": {
      "text/plain": [
       "(0.27907551985470963, 0.397990206545378)"
      ]
     },
     "execution_count": 5,
     "metadata": {},
     "output_type": "execute_result"
    }
   ],
   "source": [
    "from sklearn.metrics import mean_squared_error,mean_absolute_error\n",
    "predicted_vals=model.predict(valX)\n",
    "mae=mean_absolute_error(valy,predicted_vals)\n",
    "rmse=mean_squared_error(valy,predicted_vals,squared=False)\n",
    "mae,rmse"
   ]
  },
  {
   "cell_type": "code",
   "execution_count": 6,
   "id": "5f8d657e",
   "metadata": {
    "execution": {
     "iopub.execute_input": "2022-11-12T13:13:18.656344Z",
     "iopub.status.busy": "2022-11-12T13:13:18.656001Z",
     "iopub.status.idle": "2022-11-12T13:13:19.733680Z",
     "shell.execute_reply": "2022-11-12T13:13:19.732362Z"
    },
    "papermill": {
     "duration": 1.086312,
     "end_time": "2022-11-12T13:13:19.736259",
     "exception": false,
     "start_time": "2022-11-12T13:13:18.649947",
     "status": "completed"
    },
    "tags": []
   },
   "outputs": [
    {
     "data": {
      "image/png": "[encoded data removed]",
      "text/plain": [
       "<Figure size 432x288 with 1 Axes>"
      ]
     },
     "metadata": {
      "needs_background": "light"
     },
     "output_type": "display_data"
    }
   ],
   "source": [
    "import matplotlib.pyplot as plt\n",
    "plt.scatter(valX,valy,c='r')\n",
    "plt.scatter(valX,predicted_vals,c='b')\n",
    "plt.plot(valX,predicted_vals,color='g')\n",
    "plt.xlabel('Temerature in Degree Celcius')\n",
    "plt.ylabel('Salinity')\n",
    "plt.show()"
   ]
  },
  {
   "cell_type": "markdown",
   "id": "7d9dfdd6",
   "metadata": {
    "papermill": {
     "duration": 0.005803,
     "end_time": "2022-11-12T13:13:19.748254",
     "exception": false,
     "start_time": "2022-11-12T13:13:19.742451",
     "status": "completed"
    },
    "tags": []
   },
   "source": [
    "**Trying to fit the same dataset with a Decision Tree Regressor model**"
   ]
  },
  {
   "cell_type": "code",
   "execution_count": 7,
   "id": "2735421e",
   "metadata": {
    "execution": {
     "iopub.execute_input": "2022-11-12T13:13:19.760756Z",
     "iopub.status.busy": "2022-11-12T13:13:19.760381Z",
     "iopub.status.idle": "2022-11-12T13:13:19.773579Z",
     "shell.execute_reply": "2022-11-12T13:13:19.772554Z"
    },
    "papermill": {
     "duration": 0.021411,
     "end_time": "2022-11-12T13:13:19.775570",
     "exception": false,
     "start_time": "2022-11-12T13:13:19.754159",
     "status": "completed"
    },
    "tags": []
   },
   "outputs": [
    {
     "data": {
      "text/plain": [
       "0          0\n",
       "1          8\n",
       "2         10\n",
       "3         19\n",
       "4         20\n",
       "          ..\n",
       "864858     0\n",
       "864859     2\n",
       "864860     5\n",
       "864861    10\n",
       "864862    15\n",
       "Name: Depthm, Length: 864863, dtype: int64"
      ]
     },
     "execution_count": 7,
     "metadata": {},
     "output_type": "execute_result"
    }
   ],
   "source": [
    "data.columns\n",
    "data_DTR=data[['Depthm','T_degC','Salnty']]\n",
    "data.Depthm"
   ]
  },
  {
   "cell_type": "code",
   "execution_count": 8,
   "id": "6350efa0",
   "metadata": {
    "execution": {
     "iopub.execute_input": "2022-11-12T13:13:19.786999Z",
     "iopub.status.busy": "2022-11-12T13:13:19.786635Z",
     "iopub.status.idle": "2022-11-12T13:13:19.936818Z",
     "shell.execute_reply": "2022-11-12T13:13:19.935488Z"
    },
    "papermill": {
     "duration": 0.158766,
     "end_time": "2022-11-12T13:13:19.939302",
     "exception": false,
     "start_time": "2022-11-12T13:13:19.780536",
     "status": "completed"
    },
    "tags": []
   },
   "outputs": [],
   "source": [
    "from sklearn.impute import SimpleImputer\n",
    "from sklearn.model_selection import train_test_split\n",
    "imputer = SimpleImputer()\n",
    "XDTR=data_DTR[['T_degC','Depthm']].values\n",
    "yDTR=data_DTR[['Salnty']].values\n",
    "trnX,vaX,trny,vay=train_test_split(X,y,random_state=50)\n",
    "imp_traX=pd.DataFrame(imputer.fit_transform(trnX))\n",
    "imp_valX=pd.DataFrame(imputer.fit_transform(vaX))"
   ]
  },
  {
   "cell_type": "code",
   "execution_count": 9,
   "id": "2d3e1467",
   "metadata": {
    "execution": {
     "iopub.execute_input": "2022-11-12T13:13:19.951193Z",
     "iopub.status.busy": "2022-11-12T13:13:19.950851Z",
     "iopub.status.idle": "2022-11-12T13:13:20.983155Z",
     "shell.execute_reply": "2022-11-12T13:13:20.981554Z"
    },
    "papermill": {
     "duration": 1.041221,
     "end_time": "2022-11-12T13:13:20.985829",
     "exception": false,
     "start_time": "2022-11-12T13:13:19.944608",
     "status": "completed"
    },
    "tags": []
   },
   "outputs": [],
   "source": [
    "from sklearn.tree import DecisionTreeRegressor\n",
    "model_DTR=DecisionTreeRegressor()\n",
    "model_DTR.fit(imp_traX,trny)\n",
    "prdns=model_DTR.predict(vaX)"
   ]
  },
  {
   "cell_type": "code",
   "execution_count": 10,
   "id": "109c48c5",
   "metadata": {
    "execution": {
     "iopub.execute_input": "2022-11-12T13:13:20.998064Z",
     "iopub.status.busy": "2022-11-12T13:13:20.997047Z",
     "iopub.status.idle": "2022-11-12T13:13:21.007885Z",
     "shell.execute_reply": "2022-11-12T13:13:21.006582Z"
    },
    "papermill": {
     "duration": 0.020095,
     "end_time": "2022-11-12T13:13:21.011009",
     "exception": false,
     "start_time": "2022-11-12T13:13:20.990914",
     "status": "completed"
    },
    "tags": []
   },
   "outputs": [
    {
     "data": {
      "text/plain": [
       "(0.20851467920271083, 0.32281755652033167)"
      ]
     },
     "execution_count": 10,
     "metadata": {},
     "output_type": "execute_result"
    }
   ],
   "source": [
    "from sklearn.metrics import mean_squared_error,mean_absolute_error\n",
    "DTRmae=mean_absolute_error(vay,prdns)\n",
    "DTRrmse=mean_squared_error(vay,prdns,squared=False)\n",
    "DTRmae,DTRrmse"
   ]
  },
  {
   "cell_type": "code",
   "execution_count": 11,
   "id": "85e982b8",
   "metadata": {
    "execution": {
     "iopub.execute_input": "2022-11-12T13:13:21.022944Z",
     "iopub.status.busy": "2022-11-12T13:13:21.022580Z",
     "iopub.status.idle": "2022-11-12T13:13:25.035682Z",
     "shell.execute_reply": "2022-11-12T13:13:25.034738Z"
    },
    "papermill": {
     "duration": 4.021377,
     "end_time": "2022-11-12T13:13:25.037458",
     "exception": false,
     "start_time": "2022-11-12T13:13:21.016081",
     "status": "completed"
    },
    "tags": []
   },
   "outputs": [
    {
     "data": {
      "image/png": "[encoded data removed]",
      "text/plain": [
       "<Figure size 432x288 with 1 Axes>"
      ]
     },
     "metadata": {
      "needs_background": "light"
     },
     "output_type": "display_data"
    }
   ],
   "source": [
    "import matplotlib.pyplot as plt\n",
    "plt.scatter(vaX,vay,c='r')\n",
    "plt.scatter(vaX,prdns,c='b')\n",
    "plt.plot(vaX,prdns,color='g')\n",
    "plt.xlabel('Temerature in Degree Celcius')\n",
    "plt.ylabel('Salinity')\n",
    "plt.show()"
   ]
  },
  {
   "cell_type": "markdown",
   "id": "3cb6f892",
   "metadata": {
    "papermill": {
     "duration": 0.005101,
     "end_time": "2022-11-12T13:13:25.048399",
     "exception": false,
     "start_time": "2022-11-12T13:13:25.043298",
     "status": "completed"
    },
    "tags": []
   },
   "source": [
    "**Trying to fit the same dataset with a  model**"
   ]
  },
  {
   "cell_type": "code",
   "execution_count": 12,
   "id": "da2d02ae",
   "metadata": {
    "execution": {
     "iopub.execute_input": "2022-11-12T13:13:25.061287Z",
     "iopub.status.busy": "2022-11-12T13:13:25.060637Z",
     "iopub.status.idle": "2022-11-12T13:14:31.110919Z",
     "shell.execute_reply": "2022-11-12T13:14:31.109666Z"
    },
    "papermill": {
     "duration": 66.059728,
     "end_time": "2022-11-12T13:14:31.113451",
     "exception": false,
     "start_time": "2022-11-12T13:13:25.053723",
     "status": "completed"
    },
    "tags": []
   },
   "outputs": [
    {
     "name": "stderr",
     "output_type": "stream",
     "text": [
      "/opt/conda/lib/python3.7/site-packages/ipykernel_launcher.py:3: DataConversionWarning: A column-vector y was passed when a 1d array was expected. Please change the shape of y to (n_samples,), for example using ravel().\n",
      "  This is separate from the ipykernel package so we can avoid doing imports until\n"
     ]
    }
   ],
   "source": [
    "from sklearn.ensemble import RandomForestRegressor\n",
    "model_RFR=RandomForestRegressor()\n",
    "model_RFR.fit(imp_traX,trny)\n",
    "predictions=model_RFR.predict(vaX)"
   ]
  },
  {
   "cell_type": "code",
   "execution_count": 13,
   "id": "fbfe6dd2",
   "metadata": {
    "execution": {
     "iopub.execute_input": "2022-11-12T13:14:31.126381Z",
     "iopub.status.busy": "2022-11-12T13:14:31.126055Z",
     "iopub.status.idle": "2022-11-12T13:14:31.137789Z",
     "shell.execute_reply": "2022-11-12T13:14:31.136564Z"
    },
    "papermill": {
     "duration": 0.020442,
     "end_time": "2022-11-12T13:14:31.140270",
     "exception": false,
     "start_time": "2022-11-12T13:14:31.119828",
     "status": "completed"
    },
    "tags": []
   },
   "outputs": [
    {
     "data": {
      "text/plain": [
       "(0.20834694735134354, 0.3225375325476)"
      ]
     },
     "execution_count": 13,
     "metadata": {},
     "output_type": "execute_result"
    }
   ],
   "source": [
    "from sklearn.metrics import mean_squared_error,mean_absolute_error\n",
    "RFRmae=mean_absolute_error(vay,predictions)\n",
    "RFRrmse=mean_squared_error(vay,predictions,squared=False)\n",
    "RFRmae,RFRrmse"
   ]
  },
  {
   "cell_type": "code",
   "execution_count": 14,
   "id": "b1259dae",
   "metadata": {
    "execution": {
     "iopub.execute_input": "2022-11-12T13:14:31.153167Z",
     "iopub.status.busy": "2022-11-12T13:14:31.151888Z",
     "iopub.status.idle": "2022-11-12T13:14:35.115462Z",
     "shell.execute_reply": "2022-11-12T13:14:35.113860Z"
    },
    "papermill": {
     "duration": 3.972595,
     "end_time": "2022-11-12T13:14:35.118179",
     "exception": false,
     "start_time": "2022-11-12T13:14:31.145584",
     "status": "completed"
    },
    "tags": []
   },
   "outputs": [
    {
     "data": {
      "image/png": "[encoded data removed]",
      "text/plain": [
       "<Figure size 432x288 with 1 Axes>"
      ]
     },
     "metadata": {
      "needs_background": "light"
     },
     "output_type": "display_data"
    }
   ],
   "source": [
    "import matplotlib.pyplot as plt\n",
    "plt.scatter(vaX,vay,c='r')\n",
    "plt.scatter(vaX,predictions,c='b')\n",
    "plt.plot(vaX,predictions,color='g')\n",
    "plt.xlabel('Temerature in Degree Celcius')\n",
    "plt.ylabel('Salinity')\n",
    "plt.show()"
   ]
  }
 ],
 "metadata": {
  "kernelspec": {
   "display_name": "Python 3",
   "language": "python",
   "name": "python3"
  },
  "language_info": {
   "codemirror_mode": {
    "name": "ipython",
    "version": 3
   },
   "file_extension": ".py",
   "mimetype": "text/x-python",
   "name": "python",
   "nbconvert_exporter": "python",
   "pygments_lexer": "ipython3",
   "version": "3.7.12"
  },
  "papermill": {
   "default_parameters": {},
   "duration": 96.524417,
   "end_time": "2022-11-12T13:14:36.047170",
   "environment_variables": {},
   "exception": null,
   "input_path": "__notebook__.ipynb",
   "output_path": "__notebook__.ipynb",
   "parameters": {},
   "start_time": "2022-11-12T13:12:59.522753",
   "version": "2.3.4"
  }
 },
 "nbformat": 4,
 "nbformat_minor": 5
}
