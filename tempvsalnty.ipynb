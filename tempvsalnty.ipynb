{
 "cells": [
  {
   "cell_type": "code",
   "execution_count": 1,
   "id": "50cde5fd",
   "metadata": {
    "_cell_guid": "b1076dfc-b9ad-4769-8c92-a6c4dae69d19",
    "_uuid": "8f2839f25d086af736a60e9eeb907d3b93b6e0e5",
    "execution": {
     "iopub.execute_input": "2022-11-12T12:29:30.916710Z",
     "iopub.status.busy": "2022-11-12T12:29:30.915531Z",
     "iopub.status.idle": "2022-11-12T12:29:30.935080Z",
     "shell.execute_reply": "2022-11-12T12:29:30.934188Z"
    },
    "papermill": {
     "duration": 0.028684,
     "end_time": "2022-11-12T12:29:30.937698",
     "exception": false,
     "start_time": "2022-11-12T12:29:30.909014",
     "status": "completed"
    },
    "tags": []
   },
   "outputs": [
    {
     "name": "stdout",
     "output_type": "stream",
     "text": [
      "/kaggle/input/calcofi/bottle.csv\n",
      "/kaggle/input/calcofi/cast.csv\n"
     ]
    }
   ],
   "source": [
    "# This Python 3 environment comes with many helpful analytics libraries installed\n",
    "# It is defined by the kaggle/python Docker image: https://github.com/kaggle/docker-python\n",
    "# For example, here's several helpful packages to load\n",
    "\n",
    "import numpy as np # linear algebra\n",
    "import pandas as pd # data processing, CSV file I/O (e.g. pd.read_csv)\n",
    "\n",
    "# Input data files are available in the read-only \"../input/\" directory\n",
    "# For example, running this (by clicking run or pressing Shift+Enter) will list all files under the input directory\n",
    "\n",
    "import os\n",
    "for dirname, _, filenames in os.walk('/kaggle/input'):\n",
    "    for filename in filenames:\n",
    "        print(os.path.join(dirname, filename))\n",
    "\n",
    "# You can write up to 20GB to the current directory (/kaggle/working/) that gets preserved as output when you create a version using \"Save & Run All\" \n",
    "# You can also write temporary files to /kaggle/temp/, but they won't be saved outside of the current session"
   ]
  },
  {
   "cell_type": "code",
   "execution_count": 2,
   "id": "0d4c9397",
   "metadata": {
    "execution": {
     "iopub.execute_input": "2022-11-12T12:29:30.948281Z",
     "iopub.status.busy": "2022-11-12T12:29:30.947580Z",
     "iopub.status.idle": "2022-11-12T12:29:39.875329Z",
     "shell.execute_reply": "2022-11-12T12:29:39.874187Z"
    },
    "papermill": {
     "duration": 8.935404,
     "end_time": "2022-11-12T12:29:39.877841",
     "exception": false,
     "start_time": "2022-11-12T12:29:30.942437",
     "status": "completed"
    },
    "tags": []
   },
   "outputs": [
    {
     "name": "stderr",
     "output_type": "stream",
     "text": [
      "/opt/conda/lib/python3.7/site-packages/IPython/core/interactiveshell.py:3552: DtypeWarning: Columns (47,73) have mixed types.Specify dtype option on import or set low_memory=False.\n",
      "  exec(code_obj, self.user_global_ns, self.user_ns)\n"
     ]
    },
    {
     "data": {
      "text/html": [
       "<div>\n",
       "<style scoped>\n",
       "    .dataframe tbody tr th:only-of-type {\n",
       "        vertical-align: middle;\n",
       "    }\n",
       "\n",
       "    .dataframe tbody tr th {\n",
       "        vertical-align: top;\n",
       "    }\n",
       "\n",
       "    .dataframe thead th {\n",
       "        text-align: right;\n",
       "    }\n",
       "</style>\n",
       "<table border=\"1\" class=\"dataframe\">\n",
       "  <thead>\n",
       "    <tr style=\"text-align: right;\">\n",
       "      <th></th>\n",
       "      <th>T_degC</th>\n",
       "      <th>Salnty</th>\n",
       "    </tr>\n",
       "  </thead>\n",
       "  <tbody>\n",
       "    <tr>\n",
       "      <th>count</th>\n",
       "      <td>814247.000000</td>\n",
       "      <td>814247.000000</td>\n",
       "    </tr>\n",
       "    <tr>\n",
       "      <th>mean</th>\n",
       "      <td>10.860287</td>\n",
       "      <td>33.841337</td>\n",
       "    </tr>\n",
       "    <tr>\n",
       "      <th>std</th>\n",
       "      <td>4.224930</td>\n",
       "      <td>0.461636</td>\n",
       "    </tr>\n",
       "    <tr>\n",
       "      <th>min</th>\n",
       "      <td>1.440000</td>\n",
       "      <td>28.431000</td>\n",
       "    </tr>\n",
       "    <tr>\n",
       "      <th>25%</th>\n",
       "      <td>7.750000</td>\n",
       "      <td>33.489000</td>\n",
       "    </tr>\n",
       "    <tr>\n",
       "      <th>50%</th>\n",
       "      <td>10.110000</td>\n",
       "      <td>33.866000</td>\n",
       "    </tr>\n",
       "    <tr>\n",
       "      <th>75%</th>\n",
       "      <td>13.930000</td>\n",
       "      <td>34.197000</td>\n",
       "    </tr>\n",
       "    <tr>\n",
       "      <th>max</th>\n",
       "      <td>31.140000</td>\n",
       "      <td>37.034000</td>\n",
       "    </tr>\n",
       "  </tbody>\n",
       "</table>\n",
       "</div>"
      ],
      "text/plain": [
       "              T_degC         Salnty\n",
       "count  814247.000000  814247.000000\n",
       "mean       10.860287      33.841337\n",
       "std         4.224930       0.461636\n",
       "min         1.440000      28.431000\n",
       "25%         7.750000      33.489000\n",
       "50%        10.110000      33.866000\n",
       "75%        13.930000      34.197000\n",
       "max        31.140000      37.034000"
      ]
     },
     "execution_count": 2,
     "metadata": {},
     "output_type": "execute_result"
    }
   ],
   "source": [
    "file_path='/kaggle/input/calcofi/bottle.csv'\n",
    "data=pd.read_csv(file_path)\n",
    "data_mod=data[['T_degC','Salnty']]\n",
    "data_mod=data_mod.dropna()\n",
    "data_mod.describe()"
   ]
  },
  {
   "cell_type": "code",
   "execution_count": 3,
   "id": "914ddb45",
   "metadata": {
    "execution": {
     "iopub.execute_input": "2022-11-12T12:29:39.887372Z",
     "iopub.status.busy": "2022-11-12T12:29:39.886981Z",
     "iopub.status.idle": "2022-11-12T12:29:40.945465Z",
     "shell.execute_reply": "2022-11-12T12:29:40.943917Z"
    },
    "papermill": {
     "duration": 1.066397,
     "end_time": "2022-11-12T12:29:40.948450",
     "exception": false,
     "start_time": "2022-11-12T12:29:39.882053",
     "status": "completed"
    },
    "tags": []
   },
   "outputs": [],
   "source": [
    "X=data_mod[['T_degC']].values\n",
    "y=data_mod[['Salnty']].values\n",
    "from sklearn.model_selection import train_test_split\n",
    "traX,valX,tray,valy=train_test_split(X,y,random_state=50)"
   ]
  },
  {
   "cell_type": "code",
   "execution_count": 4,
   "id": "41170d56",
   "metadata": {
    "execution": {
     "iopub.execute_input": "2022-11-12T12:29:40.960640Z",
     "iopub.status.busy": "2022-11-12T12:29:40.958300Z",
     "iopub.status.idle": "2022-11-12T12:29:41.073035Z",
     "shell.execute_reply": "2022-11-12T12:29:41.071953Z"
    },
    "papermill": {
     "duration": 0.122436,
     "end_time": "2022-11-12T12:29:41.075213",
     "exception": false,
     "start_time": "2022-11-12T12:29:40.952777",
     "status": "completed"
    },
    "tags": []
   },
   "outputs": [
    {
     "data": {
      "text/plain": [
       "LinearRegression()"
      ]
     },
     "execution_count": 4,
     "metadata": {},
     "output_type": "execute_result"
    }
   ],
   "source": [
    "from sklearn.linear_model import LinearRegression\n",
    "model=LinearRegression()\n",
    "model.fit(traX,tray)"
   ]
  },
  {
   "cell_type": "code",
   "execution_count": 5,
   "id": "28fb3e43",
   "metadata": {
    "execution": {
     "iopub.execute_input": "2022-11-12T12:29:41.085127Z",
     "iopub.status.busy": "2022-11-12T12:29:41.084700Z",
     "iopub.status.idle": "2022-11-12T12:29:41.099320Z",
     "shell.execute_reply": "2022-11-12T12:29:41.098032Z"
    },
    "papermill": {
     "duration": 0.022891,
     "end_time": "2022-11-12T12:29:41.102210",
     "exception": false,
     "start_time": "2022-11-12T12:29:41.079319",
     "status": "completed"
    },
    "tags": []
   },
   "outputs": [
    {
     "data": {
      "text/plain": [
       "(0.27907551985470963, 0.397990206545378)"
      ]
     },
     "execution_count": 5,
     "metadata": {},
     "output_type": "execute_result"
    }
   ],
   "source": [
    "from sklearn.metrics import mean_squared_error,mean_absolute_error\n",
    "predicted_vals=model.predict(valX)\n",
    "mae=mean_absolute_error(valy,predicted_vals)\n",
    "rmse=mean_squared_error(valy,predicted_vals,squared=False)\n",
    "mae,rmse"
   ]
  },
  {
   "cell_type": "code",
   "execution_count": 6,
   "id": "5b499600",
   "metadata": {
    "execution": {
     "iopub.execute_input": "2022-11-12T12:29:41.112041Z",
     "iopub.status.busy": "2022-11-12T12:29:41.111683Z",
     "iopub.status.idle": "2022-11-12T12:29:42.063391Z",
     "shell.execute_reply": "2022-11-12T12:29:42.062193Z"
    },
    "papermill": {
     "duration": 0.959458,
     "end_time": "2022-11-12T12:29:42.065859",
     "exception": false,
     "start_time": "2022-11-12T12:29:41.106401",
     "status": "completed"
    },
    "tags": []
   },
   "outputs": [
    {
     "data": {
      "image/png": "[encoded data removed]",
      "text/plain": [
       "<Figure size 432x288 with 1 Axes>"
      ]
     },
     "metadata": {
      "needs_background": "light"
     },
     "output_type": "display_data"
    }
   ],
   "source": [
    "import matplotlib.pyplot as plt\n",
    "plt.scatter(valX,valy,c='r')\n",
    "plt.scatter(valX,predicted_vals,c='b')\n",
    "plt.plot(valX,predicted_vals,color='g')\n",
    "plt.xlabel('Temerature in Degree Celcius')\n",
    "plt.ylabel('Salinity')\n",
    "plt.show()"
   ]
  },
  {
   "cell_type": "markdown",
   "id": "3f84694c",
   "metadata": {
    "papermill": {
     "duration": 0.004243,
     "end_time": "2022-11-12T12:29:42.074719",
     "exception": false,
     "start_time": "2022-11-12T12:29:42.070476",
     "status": "completed"
    },
    "tags": []
   },
   "source": [
    "**Trying to fit the same dataset with a Decision Tree Regressor model**"
   ]
  },
  {
   "cell_type": "code",
   "execution_count": 7,
   "id": "fa002580",
   "metadata": {
    "execution": {
     "iopub.execute_input": "2022-11-12T12:29:42.085815Z",
     "iopub.status.busy": "2022-11-12T12:29:42.085390Z",
     "iopub.status.idle": "2022-11-12T12:29:42.099929Z",
     "shell.execute_reply": "2022-11-12T12:29:42.098788Z"
    },
    "papermill": {
     "duration": 0.023001,
     "end_time": "2022-11-12T12:29:42.102208",
     "exception": false,
     "start_time": "2022-11-12T12:29:42.079207",
     "status": "completed"
    },
    "tags": []
   },
   "outputs": [
    {
     "data": {
      "text/plain": [
       "0          0\n",
       "1          8\n",
       "2         10\n",
       "3         19\n",
       "4         20\n",
       "          ..\n",
       "864858     0\n",
       "864859     2\n",
       "864860     5\n",
       "864861    10\n",
       "864862    15\n",
       "Name: Depthm, Length: 864863, dtype: int64"
      ]
     },
     "execution_count": 7,
     "metadata": {},
     "output_type": "execute_result"
    }
   ],
   "source": [
    "data.columns\n",
    "data_DTR=data[['Depthm','T_degC','Salnty']]\n",
    "data.Depthm"
   ]
  },
  {
   "cell_type": "code",
   "execution_count": 8,
   "id": "a543fab6",
   "metadata": {
    "execution": {
     "iopub.execute_input": "2022-11-12T12:29:42.113143Z",
     "iopub.status.busy": "2022-11-12T12:29:42.112764Z",
     "iopub.status.idle": "2022-11-12T12:29:42.241721Z",
     "shell.execute_reply": "2022-11-12T12:29:42.240532Z"
    },
    "papermill": {
     "duration": 0.137438,
     "end_time": "2022-11-12T12:29:42.244484",
     "exception": false,
     "start_time": "2022-11-12T12:29:42.107046",
     "status": "completed"
    },
    "tags": []
   },
   "outputs": [],
   "source": [
    "from sklearn.impute import SimpleImputer\n",
    "from sklearn.model_selection import train_test_split\n",
    "imputer = SimpleImputer()\n",
    "XDTR=data_DTR[['T_degC','Depthm']].values\n",
    "yDTR=data_DTR[['Salnty']].values\n",
    "trnX,vaX,trny,vay=train_test_split(X,y,random_state=50)\n",
    "imp_traX=pd.DataFrame(imputer.fit_transform(trnX))\n",
    "imp_valX=pd.DataFrame(imputer.fit_transform(vaX))"
   ]
  },
  {
   "cell_type": "code",
   "execution_count": 9,
   "id": "cceacddb",
   "metadata": {
    "execution": {
     "iopub.execute_input": "2022-11-12T12:29:42.256092Z",
     "iopub.status.busy": "2022-11-12T12:29:42.255685Z",
     "iopub.status.idle": "2022-11-12T12:29:43.225442Z",
     "shell.execute_reply": "2022-11-12T12:29:43.224221Z"
    },
    "papermill": {
     "duration": 0.979115,
     "end_time": "2022-11-12T12:29:43.228311",
     "exception": false,
     "start_time": "2022-11-12T12:29:42.249196",
     "status": "completed"
    },
    "tags": []
   },
   "outputs": [],
   "source": [
    "from sklearn.tree import DecisionTreeRegressor\n",
    "model_DTR=DecisionTreeRegressor()\n",
    "model_DTR.fit(imp_traX,trny)\n",
    "prdns=model_DTR.predict(vaX)"
   ]
  },
  {
   "cell_type": "code",
   "execution_count": 10,
   "id": "1fdb87e9",
   "metadata": {
    "execution": {
     "iopub.execute_input": "2022-11-12T12:29:43.239589Z",
     "iopub.status.busy": "2022-11-12T12:29:43.239168Z",
     "iopub.status.idle": "2022-11-12T12:29:43.252145Z",
     "shell.execute_reply": "2022-11-12T12:29:43.251025Z"
    },
    "papermill": {
     "duration": 0.021395,
     "end_time": "2022-11-12T12:29:43.254481",
     "exception": false,
     "start_time": "2022-11-12T12:29:43.233086",
     "status": "completed"
    },
    "tags": []
   },
   "outputs": [
    {
     "data": {
      "text/plain": [
       "(0.20851467920271083, 0.32281755652033167)"
      ]
     },
     "execution_count": 10,
     "metadata": {},
     "output_type": "execute_result"
    }
   ],
   "source": [
    "from sklearn.metrics import mean_squared_error,mean_absolute_error\n",
    "DTRmae=mean_absolute_error(vay,prdns)\n",
    "DTRrmse=mean_squared_error(vay,prdns,squared=False)\n",
    "DTRmae,DTRrmse"
   ]
  },
  {
   "cell_type": "code",
   "execution_count": 11,
   "id": "b364c5fe",
   "metadata": {
    "execution": {
     "iopub.execute_input": "2022-11-12T12:29:43.266304Z",
     "iopub.status.busy": "2022-11-12T12:29:43.265920Z",
     "iopub.status.idle": "2022-11-12T12:29:47.741900Z",
     "shell.execute_reply": "2022-11-12T12:29:47.740658Z"
    },
    "papermill": {
     "duration": 4.484872,
     "end_time": "2022-11-12T12:29:47.744438",
     "exception": false,
     "start_time": "2022-11-12T12:29:43.259566",
     "status": "completed"
    },
    "tags": []
   },
   "outputs": [
    {
     "data": {
      "image/png": "[encoded data removed]",
      "text/plain": [
       "<Figure size 432x288 with 1 Axes>"
      ]
     },
     "metadata": {
      "needs_background": "light"
     },
     "output_type": "display_data"
    }
   ],
   "source": [
    "import matplotlib.pyplot as plt\n",
    "plt.scatter(vaX,vay,c='r')\n",
    "plt.scatter(vaX,prdns,c='b')\n",
    "plt.plot(vaX,prdns,color='g')\n",
    "plt.xlabel('Temerature in Degree Celcius')\n",
    "plt.ylabel('Salinity')\n",
    "plt.show()"
   ]
  }
 ],
 "metadata": {
  "kernelspec": {
   "display_name": "Python 3",
   "language": "python",
   "name": "python3"
  },
  "language_info": {
   "codemirror_mode": {
    "name": "ipython",
    "version": 3
   },
   "file_extension": ".py",
   "mimetype": "text/x-python",
   "name": "python",
   "nbconvert_exporter": "python",
   "pygments_lexer": "ipython3",
   "version": "3.7.12"
  },
  "papermill": {
   "default_parameters": {},
   "duration": 26.200199,
   "end_time": "2022-11-12T12:29:48.571014",
   "environment_variables": {},
   "exception": null,
   "input_path": "__notebook__.ipynb",
   "output_path": "__notebook__.ipynb",
   "parameters": {},
   "start_time": "2022-11-12T12:29:22.370815",
   "version": "2.3.4"
  }
 },
 "nbformat": 4,
 "nbformat_minor": 5
}
