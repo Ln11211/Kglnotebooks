{
 "cells": [
  {
   "cell_type": "code",
   "execution_count": 1,
   "id": "73b48d3c",
   "metadata": {
    "_cell_guid": "b1076dfc-b9ad-4769-8c92-a6c4dae69d19",
    "_uuid": "8f2839f25d086af736a60e9eeb907d3b93b6e0e5",
    "execution": {
     "iopub.execute_input": "2022-12-28T06:41:21.984917Z",
     "iopub.status.busy": "2022-12-28T06:41:21.984303Z",
     "iopub.status.idle": "2022-12-28T06:41:21.995637Z",
     "shell.execute_reply": "2022-12-28T06:41:21.994587Z"
    },
    "papermill": {
     "duration": 0.02058,
     "end_time": "2022-12-28T06:41:21.997633",
     "exception": false,
     "start_time": "2022-12-28T06:41:21.977053",
     "status": "completed"
    },
    "tags": []
   },
   "outputs": [
    {
     "name": "stdout",
     "output_type": "stream",
     "text": [
      "/kaggle/input/titanic/train.csv\n",
      "/kaggle/input/titanic/test.csv\n",
      "/kaggle/input/titanic/gender_submission.csv\n"
     ]
    }
   ],
   "source": [
    "# This Python 3 environment comes with many helpful analytics libraries installed\n",
    "# It is defined by the kaggle/python Docker image: https://github.com/kaggle/docker-python\n",
    "# For example, here's several helpful packages to load\n",
    "\n",
    "import numpy as np # linear algebra\n",
    "import pandas as pd # data processing, CSV file I/O (e.g. pd.read_csv)\n",
    "\n",
    "# Input data files are available in the read-only \"../input/\" directory\n",
    "# For example, running this (by clicking run or pressing Shift+Enter) will list all files under the input directory\n",
    "\n",
    "import os\n",
    "for dirname, _, filenames in os.walk('/kaggle/input'):\n",
    "    for filename in filenames:\n",
    "        print(os.path.join(dirname, filename))\n",
    "\n",
    "# You can write up to 20GB to the current directory (/kaggle/working/) that gets preserved as output when you create a version using \"Save & Run All\" \n",
    "# You can also write temporary files to /kaggle/temp/, but they won't be saved outside of the current session"
   ]
  },
  {
   "cell_type": "code",
   "execution_count": 2,
   "id": "319a9080",
   "metadata": {
    "execution": {
     "iopub.execute_input": "2022-12-28T06:41:22.009318Z",
     "iopub.status.busy": "2022-12-28T06:41:22.008886Z",
     "iopub.status.idle": "2022-12-28T06:41:22.032937Z",
     "shell.execute_reply": "2022-12-28T06:41:22.032233Z"
    },
    "papermill": {
     "duration": 0.032574,
     "end_time": "2022-12-28T06:41:22.035328",
     "exception": false,
     "start_time": "2022-12-28T06:41:22.002754",
     "status": "completed"
    },
    "tags": []
   },
   "outputs": [],
   "source": [
    "data_train=pd.read_csv(\"/kaggle/input/titanic/train.csv\")\n",
    "data_valid=pd.read_csv(\"/kaggle/input/titanic/test.csv\")"
   ]
  },
  {
   "cell_type": "markdown",
   "id": "15dbc668",
   "metadata": {
    "papermill": {
     "duration": 0.0046,
     "end_time": "2022-12-28T06:41:22.045128",
     "exception": false,
     "start_time": "2022-12-28T06:41:22.040528",
     "status": "completed"
    },
    "tags": []
   },
   "source": [
    "# Data Analysis and Preprocessing"
   ]
  },
  {
   "cell_type": "code",
   "execution_count": 3,
   "id": "ae91dd09",
   "metadata": {
    "execution": {
     "iopub.execute_input": "2022-12-28T06:41:22.056653Z",
     "iopub.status.busy": "2022-12-28T06:41:22.056073Z",
     "iopub.status.idle": "2022-12-28T06:41:22.079778Z",
     "shell.execute_reply": "2022-12-28T06:41:22.078961Z"
    },
    "papermill": {
     "duration": 0.031673,
     "end_time": "2022-12-28T06:41:22.081716",
     "exception": false,
     "start_time": "2022-12-28T06:41:22.050043",
     "status": "completed"
    },
    "tags": []
   },
   "outputs": [
    {
     "data": {
      "text/html": [
       "<div>\n",
       "<style scoped>\n",
       "    .dataframe tbody tr th:only-of-type {\n",
       "        vertical-align: middle;\n",
       "    }\n",
       "\n",
       "    .dataframe tbody tr th {\n",
       "        vertical-align: top;\n",
       "    }\n",
       "\n",
       "    .dataframe thead th {\n",
       "        text-align: right;\n",
       "    }\n",
       "</style>\n",
       "<table border=\"1\" class=\"dataframe\">\n",
       "  <thead>\n",
       "    <tr style=\"text-align: right;\">\n",
       "      <th></th>\n",
       "      <th>PassengerId</th>\n",
       "      <th>Survived</th>\n",
       "      <th>Pclass</th>\n",
       "      <th>Name</th>\n",
       "      <th>Sex</th>\n",
       "      <th>Age</th>\n",
       "      <th>SibSp</th>\n",
       "      <th>Parch</th>\n",
       "      <th>Ticket</th>\n",
       "      <th>Fare</th>\n",
       "      <th>Cabin</th>\n",
       "      <th>Embarked</th>\n",
       "    </tr>\n",
       "  </thead>\n",
       "  <tbody>\n",
       "    <tr>\n",
       "      <th>0</th>\n",
       "      <td>1</td>\n",
       "      <td>0</td>\n",
       "      <td>3</td>\n",
       "      <td>Braund, Mr. Owen Harris</td>\n",
       "      <td>male</td>\n",
       "      <td>22.0</td>\n",
       "      <td>1</td>\n",
       "      <td>0</td>\n",
       "      <td>A/5 21171</td>\n",
       "      <td>7.2500</td>\n",
       "      <td>NaN</td>\n",
       "      <td>S</td>\n",
       "    </tr>\n",
       "    <tr>\n",
       "      <th>1</th>\n",
       "      <td>2</td>\n",
       "      <td>1</td>\n",
       "      <td>1</td>\n",
       "      <td>Cumings, Mrs. John Bradley (Florence Briggs Th...</td>\n",
       "      <td>female</td>\n",
       "      <td>38.0</td>\n",
       "      <td>1</td>\n",
       "      <td>0</td>\n",
       "      <td>PC 17599</td>\n",
       "      <td>71.2833</td>\n",
       "      <td>C85</td>\n",
       "      <td>C</td>\n",
       "    </tr>\n",
       "    <tr>\n",
       "      <th>2</th>\n",
       "      <td>3</td>\n",
       "      <td>1</td>\n",
       "      <td>3</td>\n",
       "      <td>Heikkinen, Miss. Laina</td>\n",
       "      <td>female</td>\n",
       "      <td>26.0</td>\n",
       "      <td>0</td>\n",
       "      <td>0</td>\n",
       "      <td>STON/O2. 3101282</td>\n",
       "      <td>7.9250</td>\n",
       "      <td>NaN</td>\n",
       "      <td>S</td>\n",
       "    </tr>\n",
       "    <tr>\n",
       "      <th>3</th>\n",
       "      <td>4</td>\n",
       "      <td>1</td>\n",
       "      <td>1</td>\n",
       "      <td>Futrelle, Mrs. Jacques Heath (Lily May Peel)</td>\n",
       "      <td>female</td>\n",
       "      <td>35.0</td>\n",
       "      <td>1</td>\n",
       "      <td>0</td>\n",
       "      <td>113803</td>\n",
       "      <td>53.1000</td>\n",
       "      <td>C123</td>\n",
       "      <td>S</td>\n",
       "    </tr>\n",
       "    <tr>\n",
       "      <th>4</th>\n",
       "      <td>5</td>\n",
       "      <td>0</td>\n",
       "      <td>3</td>\n",
       "      <td>Allen, Mr. William Henry</td>\n",
       "      <td>male</td>\n",
       "      <td>35.0</td>\n",
       "      <td>0</td>\n",
       "      <td>0</td>\n",
       "      <td>373450</td>\n",
       "      <td>8.0500</td>\n",
       "      <td>NaN</td>\n",
       "      <td>S</td>\n",
       "    </tr>\n",
       "  </tbody>\n",
       "</table>\n",
       "</div>"
      ],
      "text/plain": [
       "   PassengerId  Survived  Pclass  \\\n",
       "0            1         0       3   \n",
       "1            2         1       1   \n",
       "2            3         1       3   \n",
       "3            4         1       1   \n",
       "4            5         0       3   \n",
       "\n",
       "                                                Name     Sex   Age  SibSp  \\\n",
       "0                            Braund, Mr. Owen Harris    male  22.0      1   \n",
       "1  Cumings, Mrs. John Bradley (Florence Briggs Th...  female  38.0      1   \n",
       "2                             Heikkinen, Miss. Laina  female  26.0      0   \n",
       "3       Futrelle, Mrs. Jacques Heath (Lily May Peel)  female  35.0      1   \n",
       "4                           Allen, Mr. William Henry    male  35.0      0   \n",
       "\n",
       "   Parch            Ticket     Fare Cabin Embarked  \n",
       "0      0         A/5 21171   7.2500   NaN        S  \n",
       "1      0          PC 17599  71.2833   C85        C  \n",
       "2      0  STON/O2. 3101282   7.9250   NaN        S  \n",
       "3      0            113803  53.1000  C123        S  \n",
       "4      0            373450   8.0500   NaN        S  "
      ]
     },
     "execution_count": 3,
     "metadata": {},
     "output_type": "execute_result"
    }
   ],
   "source": [
    "data_train.head()"
   ]
  },
  {
   "cell_type": "code",
   "execution_count": 4,
   "id": "b72630e8",
   "metadata": {
    "execution": {
     "iopub.execute_input": "2022-12-28T06:41:22.092878Z",
     "iopub.status.busy": "2022-12-28T06:41:22.092587Z",
     "iopub.status.idle": "2022-12-28T06:41:22.137380Z",
     "shell.execute_reply": "2022-12-28T06:41:22.136157Z"
    },
    "papermill": {
     "duration": 0.052627,
     "end_time": "2022-12-28T06:41:22.139483",
     "exception": false,
     "start_time": "2022-12-28T06:41:22.086856",
     "status": "completed"
    },
    "tags": []
   },
   "outputs": [
    {
     "data": {
      "text/html": [
       "<div>\n",
       "<style scoped>\n",
       "    .dataframe tbody tr th:only-of-type {\n",
       "        vertical-align: middle;\n",
       "    }\n",
       "\n",
       "    .dataframe tbody tr th {\n",
       "        vertical-align: top;\n",
       "    }\n",
       "\n",
       "    .dataframe thead th {\n",
       "        text-align: right;\n",
       "    }\n",
       "</style>\n",
       "<table border=\"1\" class=\"dataframe\">\n",
       "  <thead>\n",
       "    <tr style=\"text-align: right;\">\n",
       "      <th></th>\n",
       "      <th>PassengerId</th>\n",
       "      <th>Pclass</th>\n",
       "      <th>Age</th>\n",
       "      <th>SibSp</th>\n",
       "      <th>Parch</th>\n",
       "      <th>Fare</th>\n",
       "    </tr>\n",
       "  </thead>\n",
       "  <tbody>\n",
       "    <tr>\n",
       "      <th>count</th>\n",
       "      <td>418.000000</td>\n",
       "      <td>418.000000</td>\n",
       "      <td>332.000000</td>\n",
       "      <td>418.000000</td>\n",
       "      <td>418.000000</td>\n",
       "      <td>417.000000</td>\n",
       "    </tr>\n",
       "    <tr>\n",
       "      <th>mean</th>\n",
       "      <td>1100.500000</td>\n",
       "      <td>2.265550</td>\n",
       "      <td>30.272590</td>\n",
       "      <td>0.447368</td>\n",
       "      <td>0.392344</td>\n",
       "      <td>35.627188</td>\n",
       "    </tr>\n",
       "    <tr>\n",
       "      <th>std</th>\n",
       "      <td>120.810458</td>\n",
       "      <td>0.841838</td>\n",
       "      <td>14.181209</td>\n",
       "      <td>0.896760</td>\n",
       "      <td>0.981429</td>\n",
       "      <td>55.907576</td>\n",
       "    </tr>\n",
       "    <tr>\n",
       "      <th>min</th>\n",
       "      <td>892.000000</td>\n",
       "      <td>1.000000</td>\n",
       "      <td>0.170000</td>\n",
       "      <td>0.000000</td>\n",
       "      <td>0.000000</td>\n",
       "      <td>0.000000</td>\n",
       "    </tr>\n",
       "    <tr>\n",
       "      <th>25%</th>\n",
       "      <td>996.250000</td>\n",
       "      <td>1.000000</td>\n",
       "      <td>21.000000</td>\n",
       "      <td>0.000000</td>\n",
       "      <td>0.000000</td>\n",
       "      <td>7.895800</td>\n",
       "    </tr>\n",
       "    <tr>\n",
       "      <th>50%</th>\n",
       "      <td>1100.500000</td>\n",
       "      <td>3.000000</td>\n",
       "      <td>27.000000</td>\n",
       "      <td>0.000000</td>\n",
       "      <td>0.000000</td>\n",
       "      <td>14.454200</td>\n",
       "    </tr>\n",
       "    <tr>\n",
       "      <th>75%</th>\n",
       "      <td>1204.750000</td>\n",
       "      <td>3.000000</td>\n",
       "      <td>39.000000</td>\n",
       "      <td>1.000000</td>\n",
       "      <td>0.000000</td>\n",
       "      <td>31.500000</td>\n",
       "    </tr>\n",
       "    <tr>\n",
       "      <th>max</th>\n",
       "      <td>1309.000000</td>\n",
       "      <td>3.000000</td>\n",
       "      <td>76.000000</td>\n",
       "      <td>8.000000</td>\n",
       "      <td>9.000000</td>\n",
       "      <td>512.329200</td>\n",
       "    </tr>\n",
       "  </tbody>\n",
       "</table>\n",
       "</div>"
      ],
      "text/plain": [
       "       PassengerId      Pclass         Age       SibSp       Parch        Fare\n",
       "count   418.000000  418.000000  332.000000  418.000000  418.000000  417.000000\n",
       "mean   1100.500000    2.265550   30.272590    0.447368    0.392344   35.627188\n",
       "std     120.810458    0.841838   14.181209    0.896760    0.981429   55.907576\n",
       "min     892.000000    1.000000    0.170000    0.000000    0.000000    0.000000\n",
       "25%     996.250000    1.000000   21.000000    0.000000    0.000000    7.895800\n",
       "50%    1100.500000    3.000000   27.000000    0.000000    0.000000   14.454200\n",
       "75%    1204.750000    3.000000   39.000000    1.000000    0.000000   31.500000\n",
       "max    1309.000000    3.000000   76.000000    8.000000    9.000000  512.329200"
      ]
     },
     "execution_count": 4,
     "metadata": {},
     "output_type": "execute_result"
    }
   ],
   "source": [
    "data_train.describe()\n",
    "data_valid.describe()"
   ]
  },
  {
   "cell_type": "code",
   "execution_count": 5,
   "id": "a8ea880e",
   "metadata": {
    "execution": {
     "iopub.execute_input": "2022-12-28T06:41:22.151583Z",
     "iopub.status.busy": "2022-12-28T06:41:22.151225Z",
     "iopub.status.idle": "2022-12-28T06:41:22.161851Z",
     "shell.execute_reply": "2022-12-28T06:41:22.160857Z"
    },
    "papermill": {
     "duration": 0.019531,
     "end_time": "2022-12-28T06:41:22.164365",
     "exception": false,
     "start_time": "2022-12-28T06:41:22.144834",
     "status": "completed"
    },
    "tags": []
   },
   "outputs": [
    {
     "data": {
      "text/plain": [
       "(['Name', 'Embarked', 'Ticket', 'Cabin'], ['Sex'])"
      ]
     },
     "execution_count": 5,
     "metadata": {},
     "output_type": "execute_result"
    }
   ],
   "source": [
    "s=data_train.dtypes=='object'\n",
    "cols=s[s].index\n",
    "good_cols=[col for col in cols if\n",
    "           set(data_train[col]).issubset(set(data_valid[col]))]\n",
    "bad_cols=list(set(cols)-set(good_cols))\n",
    "bad_cols,good_cols"
   ]
  },
  {
   "cell_type": "markdown",
   "id": "cbb7430c",
   "metadata": {
    "papermill": {
     "duration": 0.005018,
     "end_time": "2022-12-28T06:41:22.175025",
     "exception": false,
     "start_time": "2022-12-28T06:41:22.170007",
     "status": "completed"
    },
    "tags": []
   },
   "source": [
    "The bad columns for ordinal and one hot encoding are **'Name', 'Embarked', 'Ticket', 'Cabin'** , it is better to drop them as they don't contribute much to the model but only create problems while encoding, the same can be verified by the below cell"
   ]
  },
  {
   "cell_type": "code",
   "execution_count": 6,
   "id": "f66b5beb",
   "metadata": {
    "execution": {
     "iopub.execute_input": "2022-12-28T06:41:22.188413Z",
     "iopub.status.busy": "2022-12-28T06:41:22.188052Z",
     "iopub.status.idle": "2022-12-28T06:41:22.195678Z",
     "shell.execute_reply": "2022-12-28T06:41:22.194536Z"
    },
    "papermill": {
     "duration": 0.017727,
     "end_time": "2022-12-28T06:41:22.198019",
     "exception": false,
     "start_time": "2022-12-28T06:41:22.180292",
     "status": "completed"
    },
    "tags": []
   },
   "outputs": [
    {
     "data": {
      "text/plain": [
       "False"
      ]
     },
     "execution_count": 6,
     "metadata": {},
     "output_type": "execute_result"
    }
   ],
   "source": [
    "s1=set(data_train['Cabin'].unique())\n",
    "s2=set(data_valid[\"Cabin\"].unique())\n",
    "s1.issuperset(s2)"
   ]
  },
  {
   "cell_type": "code",
   "execution_count": 7,
   "id": "ca76bb6c",
   "metadata": {
    "execution": {
     "iopub.execute_input": "2022-12-28T06:41:22.210751Z",
     "iopub.status.busy": "2022-12-28T06:41:22.210433Z",
     "iopub.status.idle": "2022-12-28T06:41:22.215358Z",
     "shell.execute_reply": "2022-12-28T06:41:22.214785Z"
    },
    "papermill": {
     "duration": 0.013143,
     "end_time": "2022-12-28T06:41:22.216887",
     "exception": false,
     "start_time": "2022-12-28T06:41:22.203744",
     "status": "completed"
    },
    "tags": []
   },
   "outputs": [],
   "source": [
    "data_train.drop(bad_cols,axis=1,inplace=True)\n",
    "data_valid.drop(bad_cols,axis=1,inplace=True)"
   ]
  },
  {
   "cell_type": "code",
   "execution_count": 8,
   "id": "c5ddbbf8",
   "metadata": {
    "execution": {
     "iopub.execute_input": "2022-12-28T06:41:22.229916Z",
     "iopub.status.busy": "2022-12-28T06:41:22.229382Z",
     "iopub.status.idle": "2022-12-28T06:41:23.176558Z",
     "shell.execute_reply": "2022-12-28T06:41:23.175386Z"
    },
    "papermill": {
     "duration": 0.956666,
     "end_time": "2022-12-28T06:41:23.179200",
     "exception": false,
     "start_time": "2022-12-28T06:41:22.222534",
     "status": "completed"
    },
    "tags": []
   },
   "outputs": [],
   "source": [
    "from sklearn.preprocessing import OrdinalEncoder\n",
    "enc=OrdinalEncoder()\n",
    "data_train[good_cols]=enc.fit_transform(data_train[good_cols])\n",
    "data_valid[good_cols]=enc.transform(data_valid[good_cols])"
   ]
  },
  {
   "cell_type": "code",
   "execution_count": 9,
   "id": "7163a13b",
   "metadata": {
    "execution": {
     "iopub.execute_input": "2022-12-28T06:41:23.191598Z",
     "iopub.status.busy": "2022-12-28T06:41:23.191251Z",
     "iopub.status.idle": "2022-12-28T06:41:23.206604Z",
     "shell.execute_reply": "2022-12-28T06:41:23.205773Z"
    },
    "papermill": {
     "duration": 0.023629,
     "end_time": "2022-12-28T06:41:23.208391",
     "exception": false,
     "start_time": "2022-12-28T06:41:23.184762",
     "status": "completed"
    },
    "tags": []
   },
   "outputs": [
    {
     "data": {
      "text/html": [
       "<div>\n",
       "<style scoped>\n",
       "    .dataframe tbody tr th:only-of-type {\n",
       "        vertical-align: middle;\n",
       "    }\n",
       "\n",
       "    .dataframe tbody tr th {\n",
       "        vertical-align: top;\n",
       "    }\n",
       "\n",
       "    .dataframe thead th {\n",
       "        text-align: right;\n",
       "    }\n",
       "</style>\n",
       "<table border=\"1\" class=\"dataframe\">\n",
       "  <thead>\n",
       "    <tr style=\"text-align: right;\">\n",
       "      <th></th>\n",
       "      <th>Survived</th>\n",
       "      <th>Pclass</th>\n",
       "      <th>Sex</th>\n",
       "      <th>Age</th>\n",
       "      <th>SibSp</th>\n",
       "      <th>Parch</th>\n",
       "      <th>Fare</th>\n",
       "    </tr>\n",
       "  </thead>\n",
       "  <tbody>\n",
       "    <tr>\n",
       "      <th>0</th>\n",
       "      <td>0</td>\n",
       "      <td>3</td>\n",
       "      <td>1.0</td>\n",
       "      <td>22.0</td>\n",
       "      <td>1</td>\n",
       "      <td>0</td>\n",
       "      <td>7.2500</td>\n",
       "    </tr>\n",
       "    <tr>\n",
       "      <th>1</th>\n",
       "      <td>1</td>\n",
       "      <td>1</td>\n",
       "      <td>0.0</td>\n",
       "      <td>38.0</td>\n",
       "      <td>1</td>\n",
       "      <td>0</td>\n",
       "      <td>71.2833</td>\n",
       "    </tr>\n",
       "    <tr>\n",
       "      <th>2</th>\n",
       "      <td>1</td>\n",
       "      <td>3</td>\n",
       "      <td>0.0</td>\n",
       "      <td>26.0</td>\n",
       "      <td>0</td>\n",
       "      <td>0</td>\n",
       "      <td>7.9250</td>\n",
       "    </tr>\n",
       "    <tr>\n",
       "      <th>3</th>\n",
       "      <td>1</td>\n",
       "      <td>1</td>\n",
       "      <td>0.0</td>\n",
       "      <td>35.0</td>\n",
       "      <td>1</td>\n",
       "      <td>0</td>\n",
       "      <td>53.1000</td>\n",
       "    </tr>\n",
       "    <tr>\n",
       "      <th>4</th>\n",
       "      <td>0</td>\n",
       "      <td>3</td>\n",
       "      <td>1.0</td>\n",
       "      <td>35.0</td>\n",
       "      <td>0</td>\n",
       "      <td>0</td>\n",
       "      <td>8.0500</td>\n",
       "    </tr>\n",
       "  </tbody>\n",
       "</table>\n",
       "</div>"
      ],
      "text/plain": [
       "   Survived  Pclass  Sex   Age  SibSp  Parch     Fare\n",
       "0         0       3  1.0  22.0      1      0   7.2500\n",
       "1         1       1  0.0  38.0      1      0  71.2833\n",
       "2         1       3  0.0  26.0      0      0   7.9250\n",
       "3         1       1  0.0  35.0      1      0  53.1000\n",
       "4         0       3  1.0  35.0      0      0   8.0500"
      ]
     },
     "execution_count": 9,
     "metadata": {},
     "output_type": "execute_result"
    }
   ],
   "source": [
    "data_train.drop(['PassengerId'],axis=1,inplace=True)\n",
    "data_valid_copy=data_valid.drop(['PassengerId'],axis=1)\n",
    "data_train.head()"
   ]
  },
  {
   "cell_type": "markdown",
   "id": "d67ffc5b",
   "metadata": {
    "papermill": {
     "duration": 0.005156,
     "end_time": "2022-12-28T06:41:23.219212",
     "exception": false,
     "start_time": "2022-12-28T06:41:23.214056",
     "status": "completed"
    },
    "tags": []
   },
   "source": [
    "# Data correlation"
   ]
  },
  {
   "cell_type": "code",
   "execution_count": 10,
   "id": "50e061b8",
   "metadata": {
    "execution": {
     "iopub.execute_input": "2022-12-28T06:41:23.231755Z",
     "iopub.status.busy": "2022-12-28T06:41:23.231015Z",
     "iopub.status.idle": "2022-12-28T06:41:23.654541Z",
     "shell.execute_reply": "2022-12-28T06:41:23.653357Z"
    },
    "papermill": {
     "duration": 0.431938,
     "end_time": "2022-12-28T06:41:23.656538",
     "exception": false,
     "start_time": "2022-12-28T06:41:23.224600",
     "status": "completed"
    },
    "tags": []
   },
   "outputs": [
    {
     "data": {
      "text/html": [
       "<div>\n",
       "<style scoped>\n",
       "    .dataframe tbody tr th:only-of-type {\n",
       "        vertical-align: middle;\n",
       "    }\n",
       "\n",
       "    .dataframe tbody tr th {\n",
       "        vertical-align: top;\n",
       "    }\n",
       "\n",
       "    .dataframe thead th {\n",
       "        text-align: right;\n",
       "    }\n",
       "</style>\n",
       "<table border=\"1\" class=\"dataframe\">\n",
       "  <thead>\n",
       "    <tr style=\"text-align: right;\">\n",
       "      <th></th>\n",
       "      <th>Survived</th>\n",
       "      <th>Pclass</th>\n",
       "      <th>Sex</th>\n",
       "      <th>Age</th>\n",
       "      <th>SibSp</th>\n",
       "      <th>Parch</th>\n",
       "      <th>Fare</th>\n",
       "    </tr>\n",
       "  </thead>\n",
       "  <tbody>\n",
       "    <tr>\n",
       "      <th>Survived</th>\n",
       "      <td>1.000000</td>\n",
       "      <td>-0.338481</td>\n",
       "      <td>-0.543351</td>\n",
       "      <td>-0.077221</td>\n",
       "      <td>-0.035322</td>\n",
       "      <td>0.081629</td>\n",
       "      <td>0.257307</td>\n",
       "    </tr>\n",
       "    <tr>\n",
       "      <th>Pclass</th>\n",
       "      <td>-0.338481</td>\n",
       "      <td>1.000000</td>\n",
       "      <td>0.131900</td>\n",
       "      <td>-0.369226</td>\n",
       "      <td>0.083081</td>\n",
       "      <td>0.018443</td>\n",
       "      <td>-0.549500</td>\n",
       "    </tr>\n",
       "    <tr>\n",
       "      <th>Sex</th>\n",
       "      <td>-0.543351</td>\n",
       "      <td>0.131900</td>\n",
       "      <td>1.000000</td>\n",
       "      <td>0.093254</td>\n",
       "      <td>-0.114631</td>\n",
       "      <td>-0.245489</td>\n",
       "      <td>-0.182333</td>\n",
       "    </tr>\n",
       "    <tr>\n",
       "      <th>Age</th>\n",
       "      <td>-0.077221</td>\n",
       "      <td>-0.369226</td>\n",
       "      <td>0.093254</td>\n",
       "      <td>1.000000</td>\n",
       "      <td>-0.308247</td>\n",
       "      <td>-0.189119</td>\n",
       "      <td>0.096067</td>\n",
       "    </tr>\n",
       "    <tr>\n",
       "      <th>SibSp</th>\n",
       "      <td>-0.035322</td>\n",
       "      <td>0.083081</td>\n",
       "      <td>-0.114631</td>\n",
       "      <td>-0.308247</td>\n",
       "      <td>1.000000</td>\n",
       "      <td>0.414838</td>\n",
       "      <td>0.159651</td>\n",
       "    </tr>\n",
       "    <tr>\n",
       "      <th>Parch</th>\n",
       "      <td>0.081629</td>\n",
       "      <td>0.018443</td>\n",
       "      <td>-0.245489</td>\n",
       "      <td>-0.189119</td>\n",
       "      <td>0.414838</td>\n",
       "      <td>1.000000</td>\n",
       "      <td>0.216225</td>\n",
       "    </tr>\n",
       "    <tr>\n",
       "      <th>Fare</th>\n",
       "      <td>0.257307</td>\n",
       "      <td>-0.549500</td>\n",
       "      <td>-0.182333</td>\n",
       "      <td>0.096067</td>\n",
       "      <td>0.159651</td>\n",
       "      <td>0.216225</td>\n",
       "      <td>1.000000</td>\n",
       "    </tr>\n",
       "  </tbody>\n",
       "</table>\n",
       "</div>"
      ],
      "text/plain": [
       "          Survived    Pclass       Sex       Age     SibSp     Parch      Fare\n",
       "Survived  1.000000 -0.338481 -0.543351 -0.077221 -0.035322  0.081629  0.257307\n",
       "Pclass   -0.338481  1.000000  0.131900 -0.369226  0.083081  0.018443 -0.549500\n",
       "Sex      -0.543351  0.131900  1.000000  0.093254 -0.114631 -0.245489 -0.182333\n",
       "Age      -0.077221 -0.369226  0.093254  1.000000 -0.308247 -0.189119  0.096067\n",
       "SibSp    -0.035322  0.083081 -0.114631 -0.308247  1.000000  0.414838  0.159651\n",
       "Parch     0.081629  0.018443 -0.245489 -0.189119  0.414838  1.000000  0.216225\n",
       "Fare      0.257307 -0.549500 -0.182333  0.096067  0.159651  0.216225  1.000000"
      ]
     },
     "execution_count": 10,
     "metadata": {},
     "output_type": "execute_result"
    },
    {
     "data": {
      "image/png": "[encoded data removed]",
      "text/plain": [
       "<Figure size 432x288 with 2 Axes>"
      ]
     },
     "metadata": {
      "needs_background": "light"
     },
     "output_type": "display_data"
    }
   ],
   "source": [
    "import seaborn as sns\n",
    "cor=data_train.corr()\n",
    "sns.heatmap(cor)\n",
    "cor"
   ]
  },
  {
   "cell_type": "code",
   "execution_count": 11,
   "id": "14bd6eeb",
   "metadata": {
    "execution": {
     "iopub.execute_input": "2022-12-28T06:41:23.671424Z",
     "iopub.status.busy": "2022-12-28T06:41:23.671049Z",
     "iopub.status.idle": "2022-12-28T06:41:24.860992Z",
     "shell.execute_reply": "2022-12-28T06:41:24.859658Z"
    },
    "papermill": {
     "duration": 1.200191,
     "end_time": "2022-12-28T06:41:24.863553",
     "exception": false,
     "start_time": "2022-12-28T06:41:23.663362",
     "status": "completed"
    },
    "tags": []
   },
   "outputs": [
    {
     "data": {
      "text/plain": [
       "array([[<AxesSubplot:title={'center':'Survived'}>,\n",
       "        <AxesSubplot:title={'center':'Pclass'}>,\n",
       "        <AxesSubplot:title={'center':'Sex'}>],\n",
       "       [<AxesSubplot:title={'center':'Age'}>,\n",
       "        <AxesSubplot:title={'center':'SibSp'}>,\n",
       "        <AxesSubplot:title={'center':'Parch'}>],\n",
       "       [<AxesSubplot:title={'center':'Fare'}>, <AxesSubplot:>,\n",
       "        <AxesSubplot:>]], dtype=object)"
      ]
     },
     "execution_count": 11,
     "metadata": {},
     "output_type": "execute_result"
    },
    {
     "data": {
      "image/png": "[encoded data removed]",
      "text/plain": [
       "<Figure size 2160x2160 with 9 Axes>"
      ]
     },
     "metadata": {
      "needs_background": "light"
     },
     "output_type": "display_data"
    }
   ],
   "source": [
    "data_train.hist(figsize=(30,30))"
   ]
  },
  {
   "cell_type": "code",
   "execution_count": 12,
   "id": "d0a61fb7",
   "metadata": {
    "execution": {
     "iopub.execute_input": "2022-12-28T06:41:24.882671Z",
     "iopub.status.busy": "2022-12-28T06:41:24.881730Z",
     "iopub.status.idle": "2022-12-28T06:41:24.893696Z",
     "shell.execute_reply": "2022-12-28T06:41:24.892474Z"
    },
    "papermill": {
     "duration": 0.024841,
     "end_time": "2022-12-28T06:41:24.896190",
     "exception": false,
     "start_time": "2022-12-28T06:41:24.871349",
     "status": "completed"
    },
    "tags": []
   },
   "outputs": [
    {
     "data": {
      "text/plain": [
       "(['Age'], ['Age', 'Fare'])"
      ]
     },
     "execution_count": 12,
     "metadata": {},
     "output_type": "execute_result"
    }
   ],
   "source": [
    "cols_missing_train=[cols for cols in data_train.columns if\n",
    "              data_train[cols].isnull().any()]\n",
    "cols_missing_valid=[cols for cols in data_valid_copy.columns if\n",
    "              data_valid[cols].isnull().any()]\n",
    "cols_missing_train,cols_missing_valid"
   ]
  },
  {
   "cell_type": "markdown",
   "id": "3e100380",
   "metadata": {
    "papermill": {
     "duration": 0.00839,
     "end_time": "2022-12-28T06:41:24.914438",
     "exception": false,
     "start_time": "2022-12-28T06:41:24.906048",
     "status": "completed"
    },
    "tags": []
   },
   "source": [
    "Since **'Age'** is missing values and it is not higly correlated with the target, we can procceed by dropping it"
   ]
  },
  {
   "cell_type": "code",
   "execution_count": 13,
   "id": "fefe195e",
   "metadata": {
    "execution": {
     "iopub.execute_input": "2022-12-28T06:41:24.932201Z",
     "iopub.status.busy": "2022-12-28T06:41:24.931837Z",
     "iopub.status.idle": "2022-12-28T06:41:24.938061Z",
     "shell.execute_reply": "2022-12-28T06:41:24.937158Z"
    },
    "papermill": {
     "duration": 0.016764,
     "end_time": "2022-12-28T06:41:24.940511",
     "exception": false,
     "start_time": "2022-12-28T06:41:24.923747",
     "status": "completed"
    },
    "tags": []
   },
   "outputs": [],
   "source": [
    "data_train.drop([\"Age\"],axis=1,inplace=True)\n",
    "data_valid_copy.drop([\"Age\"],axis=1,inplace=True)"
   ]
  },
  {
   "cell_type": "code",
   "execution_count": 14,
   "id": "447e975b",
   "metadata": {
    "execution": {
     "iopub.execute_input": "2022-12-28T06:41:24.956433Z",
     "iopub.status.busy": "2022-12-28T06:41:24.956055Z",
     "iopub.status.idle": "2022-12-28T06:41:25.121398Z",
     "shell.execute_reply": "2022-12-28T06:41:25.120403Z"
    },
    "papermill": {
     "duration": 0.175949,
     "end_time": "2022-12-28T06:41:25.123737",
     "exception": false,
     "start_time": "2022-12-28T06:41:24.947788",
     "status": "completed"
    },
    "tags": []
   },
   "outputs": [],
   "source": [
    "from sklearn.impute import SimpleImputer\n",
    "impu=SimpleImputer()\n",
    "data_valid_copy=impu.fit_transform(data_valid_copy)"
   ]
  },
  {
   "cell_type": "code",
   "execution_count": 15,
   "id": "56b4c210",
   "metadata": {
    "execution": {
     "iopub.execute_input": "2022-12-28T06:41:25.138825Z",
     "iopub.status.busy": "2022-12-28T06:41:25.138460Z",
     "iopub.status.idle": "2022-12-28T06:41:25.152020Z",
     "shell.execute_reply": "2022-12-28T06:41:25.151109Z"
    },
    "papermill": {
     "duration": 0.023388,
     "end_time": "2022-12-28T06:41:25.153982",
     "exception": false,
     "start_time": "2022-12-28T06:41:25.130594",
     "status": "completed"
    },
    "tags": []
   },
   "outputs": [
    {
     "data": {
      "text/html": [
       "<div>\n",
       "<style scoped>\n",
       "    .dataframe tbody tr th:only-of-type {\n",
       "        vertical-align: middle;\n",
       "    }\n",
       "\n",
       "    .dataframe tbody tr th {\n",
       "        vertical-align: top;\n",
       "    }\n",
       "\n",
       "    .dataframe thead th {\n",
       "        text-align: right;\n",
       "    }\n",
       "</style>\n",
       "<table border=\"1\" class=\"dataframe\">\n",
       "  <thead>\n",
       "    <tr style=\"text-align: right;\">\n",
       "      <th></th>\n",
       "      <th>Pclass</th>\n",
       "      <th>Sex</th>\n",
       "      <th>SibSp</th>\n",
       "      <th>Parch</th>\n",
       "      <th>Fare</th>\n",
       "    </tr>\n",
       "  </thead>\n",
       "  <tbody>\n",
       "    <tr>\n",
       "      <th>842</th>\n",
       "      <td>1</td>\n",
       "      <td>0.0</td>\n",
       "      <td>0</td>\n",
       "      <td>0</td>\n",
       "      <td>31.0000</td>\n",
       "    </tr>\n",
       "    <tr>\n",
       "      <th>874</th>\n",
       "      <td>2</td>\n",
       "      <td>0.0</td>\n",
       "      <td>1</td>\n",
       "      <td>0</td>\n",
       "      <td>24.0000</td>\n",
       "    </tr>\n",
       "    <tr>\n",
       "      <th>302</th>\n",
       "      <td>3</td>\n",
       "      <td>1.0</td>\n",
       "      <td>0</td>\n",
       "      <td>0</td>\n",
       "      <td>0.0000</td>\n",
       "    </tr>\n",
       "    <tr>\n",
       "      <th>508</th>\n",
       "      <td>3</td>\n",
       "      <td>1.0</td>\n",
       "      <td>0</td>\n",
       "      <td>0</td>\n",
       "      <td>22.5250</td>\n",
       "    </tr>\n",
       "    <tr>\n",
       "      <th>182</th>\n",
       "      <td>3</td>\n",
       "      <td>1.0</td>\n",
       "      <td>4</td>\n",
       "      <td>2</td>\n",
       "      <td>31.3875</td>\n",
       "    </tr>\n",
       "  </tbody>\n",
       "</table>\n",
       "</div>"
      ],
      "text/plain": [
       "     Pclass  Sex  SibSp  Parch     Fare\n",
       "842       1  0.0      0      0  31.0000\n",
       "874       2  0.0      1      0  24.0000\n",
       "302       3  1.0      0      0   0.0000\n",
       "508       3  1.0      0      0  22.5250\n",
       "182       3  1.0      4      2  31.3875"
      ]
     },
     "execution_count": 15,
     "metadata": {},
     "output_type": "execute_result"
    }
   ],
   "source": [
    "from sklearn.model_selection import train_test_split\n",
    "y=data_train.Survived\n",
    "X=data_train.drop(['Survived'],axis=1)\n",
    "X_train,X_test,y_train,y_test=train_test_split(X,y)\n",
    "X_train.head()"
   ]
  },
  {
   "cell_type": "code",
   "execution_count": 16,
   "id": "75385308",
   "metadata": {
    "execution": {
     "iopub.execute_input": "2022-12-28T06:41:25.170305Z",
     "iopub.status.busy": "2022-12-28T06:41:25.169960Z",
     "iopub.status.idle": "2022-12-28T06:41:25.198899Z",
     "shell.execute_reply": "2022-12-28T06:41:25.195285Z"
    },
    "papermill": {
     "duration": 0.04058,
     "end_time": "2022-12-28T06:41:25.201908",
     "exception": false,
     "start_time": "2022-12-28T06:41:25.161328",
     "status": "completed"
    },
    "tags": []
   },
   "outputs": [],
   "source": [
    "from sklearn.linear_model import LogisticRegression\n",
    "model=LogisticRegression()\n",
    "model.fit(X_train,y_train)\n",
    "prdns=model.predict(X_test)"
   ]
  },
  {
   "cell_type": "code",
   "execution_count": 17,
   "id": "08ad189f",
   "metadata": {
    "execution": {
     "iopub.execute_input": "2022-12-28T06:41:25.221185Z",
     "iopub.status.busy": "2022-12-28T06:41:25.220789Z",
     "iopub.status.idle": "2022-12-28T06:41:25.230655Z",
     "shell.execute_reply": "2022-12-28T06:41:25.229942Z"
    },
    "papermill": {
     "duration": 0.022878,
     "end_time": "2022-12-28T06:41:25.234092",
     "exception": false,
     "start_time": "2022-12-28T06:41:25.211214",
     "status": "completed"
    },
    "tags": []
   },
   "outputs": [
    {
     "data": {
      "text/plain": [
       "7.744199151968603"
      ]
     },
     "execution_count": 17,
     "metadata": {},
     "output_type": "execute_result"
    }
   ],
   "source": [
    "from sklearn.metrics import log_loss\n",
    "loss=log_loss(y_test,prdns)\n",
    "loss"
   ]
  },
  {
   "cell_type": "code",
   "execution_count": 18,
   "id": "f0ec9a7e",
   "metadata": {
    "execution": {
     "iopub.execute_input": "2022-12-28T06:41:25.254259Z",
     "iopub.status.busy": "2022-12-28T06:41:25.253880Z",
     "iopub.status.idle": "2022-12-28T06:41:25.266544Z",
     "shell.execute_reply": "2022-12-28T06:41:25.265599Z"
    },
    "papermill": {
     "duration": 0.023203,
     "end_time": "2022-12-28T06:41:25.268769",
     "exception": false,
     "start_time": "2022-12-28T06:41:25.245566",
     "status": "completed"
    },
    "tags": []
   },
   "outputs": [
    {
     "name": "stdout",
     "output_type": "stream",
     "text": [
      "Your submission was successfully saved!\n"
     ]
    },
    {
     "name": "stderr",
     "output_type": "stream",
     "text": [
      "/opt/conda/lib/python3.7/site-packages/sklearn/base.py:451: UserWarning: X does not have valid feature names, but LogisticRegression was fitted with feature names\n",
      "  \"X does not have valid feature names, but\"\n"
     ]
    }
   ],
   "source": [
    "predictions=model.predict(data_valid_copy)\n",
    "output = pd.DataFrame({'PassengerId': data_valid.PassengerId, 'Survived': predictions})\n",
    "output.to_csv('submission.csv', index=False)\n",
    "print(\"Your submission was successfully saved!\")"
   ]
  }
 ],
 "metadata": {
  "kernelspec": {
   "display_name": "Python 3",
   "language": "python",
   "name": "python3"
  },
  "language_info": {
   "codemirror_mode": {
    "name": "ipython",
    "version": 3
   },
   "file_extension": ".py",
   "mimetype": "text/x-python",
   "name": "python",
   "nbconvert_exporter": "python",
   "pygments_lexer": "ipython3",
   "version": "3.7.12"
  },
  "papermill": {
   "default_parameters": {},
   "duration": 11.276308,
   "end_time": "2022-12-28T06:41:25.996750",
   "environment_variables": {},
   "exception": null,
   "input_path": "__notebook__.ipynb",
   "output_path": "__notebook__.ipynb",
   "parameters": {},
   "start_time": "2022-12-28T06:41:14.720442",
   "version": "2.3.4"
  }
 },
 "nbformat": 4,
 "nbformat_minor": 5
}
