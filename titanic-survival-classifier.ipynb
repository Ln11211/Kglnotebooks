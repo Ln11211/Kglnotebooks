{
 "cells": [
  {
   "cell_type": "code",
   "execution_count": 1,
   "id": "5401632a",
   "metadata": {
    "_cell_guid": "b1076dfc-b9ad-4769-8c92-a6c4dae69d19",
    "_uuid": "8f2839f25d086af736a60e9eeb907d3b93b6e0e5",
    "execution": {
     "iopub.execute_input": "2022-12-28T07:03:17.189042Z",
     "iopub.status.busy": "2022-12-28T07:03:17.188422Z",
     "iopub.status.idle": "2022-12-28T07:03:17.199944Z",
     "shell.execute_reply": "2022-12-28T07:03:17.198981Z"
    },
    "papermill": {
     "duration": 0.021687,
     "end_time": "2022-12-28T07:03:17.202512",
     "exception": false,
     "start_time": "2022-12-28T07:03:17.180825",
     "status": "completed"
    },
    "tags": []
   },
   "outputs": [
    {
     "name": "stdout",
     "output_type": "stream",
     "text": [
      "/kaggle/input/titanic/train.csv\n",
      "/kaggle/input/titanic/test.csv\n",
      "/kaggle/input/titanic/gender_submission.csv\n"
     ]
    }
   ],
   "source": [
    "# This Python 3 environment comes with many helpful analytics libraries installed\n",
    "# It is defined by the kaggle/python Docker image: https://github.com/kaggle/docker-python\n",
    "# For example, here's several helpful packages to load\n",
    "\n",
    "import numpy as np # linear algebra\n",
    "import pandas as pd # data processing, CSV file I/O (e.g. pd.read_csv)\n",
    "\n",
    "# Input data files are available in the read-only \"../input/\" directory\n",
    "# For example, running this (by clicking run or pressing Shift+Enter) will list all files under the input directory\n",
    "\n",
    "import os\n",
    "for dirname, _, filenames in os.walk('/kaggle/input'):\n",
    "    for filename in filenames:\n",
    "        print(os.path.join(dirname, filename))\n",
    "\n",
    "# You can write up to 20GB to the current directory (/kaggle/working/) that gets preserved as output when you create a version using \"Save & Run All\" \n",
    "# You can also write temporary files to /kaggle/temp/, but they won't be saved outside of the current session"
   ]
  },
  {
   "cell_type": "code",
   "execution_count": 2,
   "id": "1e6f1b39",
   "metadata": {
    "execution": {
     "iopub.execute_input": "2022-12-28T07:03:17.214718Z",
     "iopub.status.busy": "2022-12-28T07:03:17.214007Z",
     "iopub.status.idle": "2022-12-28T07:03:17.243974Z",
     "shell.execute_reply": "2022-12-28T07:03:17.242574Z"
    },
    "papermill": {
     "duration": 0.038843,
     "end_time": "2022-12-28T07:03:17.246585",
     "exception": false,
     "start_time": "2022-12-28T07:03:17.207742",
     "status": "completed"
    },
    "tags": []
   },
   "outputs": [],
   "source": [
    "data_train=pd.read_csv(\"/kaggle/input/titanic/train.csv\")\n",
    "data_valid=pd.read_csv(\"/kaggle/input/titanic/test.csv\")"
   ]
  },
  {
   "cell_type": "markdown",
   "id": "3509a954",
   "metadata": {
    "papermill": {
     "duration": 0.004629,
     "end_time": "2022-12-28T07:03:17.256283",
     "exception": false,
     "start_time": "2022-12-28T07:03:17.251654",
     "status": "completed"
    },
    "tags": []
   },
   "source": [
    "# Data Analysis and Preprocessing"
   ]
  },
  {
   "cell_type": "code",
   "execution_count": 3,
   "id": "d4cc4963",
   "metadata": {
    "execution": {
     "iopub.execute_input": "2022-12-28T07:03:17.268016Z",
     "iopub.status.busy": "2022-12-28T07:03:17.267645Z",
     "iopub.status.idle": "2022-12-28T07:03:17.296208Z",
     "shell.execute_reply": "2022-12-28T07:03:17.294416Z"
    },
    "papermill": {
     "duration": 0.037361,
     "end_time": "2022-12-28T07:03:17.298615",
     "exception": false,
     "start_time": "2022-12-28T07:03:17.261254",
     "status": "completed"
    },
    "tags": []
   },
   "outputs": [
    {
     "data": {
      "text/html": [
       "<div>\n",
       "<style scoped>\n",
       "    .dataframe tbody tr th:only-of-type {\n",
       "        vertical-align: middle;\n",
       "    }\n",
       "\n",
       "    .dataframe tbody tr th {\n",
       "        vertical-align: top;\n",
       "    }\n",
       "\n",
       "    .dataframe thead th {\n",
       "        text-align: right;\n",
       "    }\n",
       "</style>\n",
       "<table border=\"1\" class=\"dataframe\">\n",
       "  <thead>\n",
       "    <tr style=\"text-align: right;\">\n",
       "      <th></th>\n",
       "      <th>PassengerId</th>\n",
       "      <th>Survived</th>\n",
       "      <th>Pclass</th>\n",
       "      <th>Name</th>\n",
       "      <th>Sex</th>\n",
       "      <th>Age</th>\n",
       "      <th>SibSp</th>\n",
       "      <th>Parch</th>\n",
       "      <th>Ticket</th>\n",
       "      <th>Fare</th>\n",
       "      <th>Cabin</th>\n",
       "      <th>Embarked</th>\n",
       "    </tr>\n",
       "  </thead>\n",
       "  <tbody>\n",
       "    <tr>\n",
       "      <th>0</th>\n",
       "      <td>1</td>\n",
       "      <td>0</td>\n",
       "      <td>3</td>\n",
       "      <td>Braund, Mr. Owen Harris</td>\n",
       "      <td>male</td>\n",
       "      <td>22.0</td>\n",
       "      <td>1</td>\n",
       "      <td>0</td>\n",
       "      <td>A/5 21171</td>\n",
       "      <td>7.2500</td>\n",
       "      <td>NaN</td>\n",
       "      <td>S</td>\n",
       "    </tr>\n",
       "    <tr>\n",
       "      <th>1</th>\n",
       "      <td>2</td>\n",
       "      <td>1</td>\n",
       "      <td>1</td>\n",
       "      <td>Cumings, Mrs. John Bradley (Florence Briggs Th...</td>\n",
       "      <td>female</td>\n",
       "      <td>38.0</td>\n",
       "      <td>1</td>\n",
       "      <td>0</td>\n",
       "      <td>PC 17599</td>\n",
       "      <td>71.2833</td>\n",
       "      <td>C85</td>\n",
       "      <td>C</td>\n",
       "    </tr>\n",
       "    <tr>\n",
       "      <th>2</th>\n",
       "      <td>3</td>\n",
       "      <td>1</td>\n",
       "      <td>3</td>\n",
       "      <td>Heikkinen, Miss. Laina</td>\n",
       "      <td>female</td>\n",
       "      <td>26.0</td>\n",
       "      <td>0</td>\n",
       "      <td>0</td>\n",
       "      <td>STON/O2. 3101282</td>\n",
       "      <td>7.9250</td>\n",
       "      <td>NaN</td>\n",
       "      <td>S</td>\n",
       "    </tr>\n",
       "    <tr>\n",
       "      <th>3</th>\n",
       "      <td>4</td>\n",
       "      <td>1</td>\n",
       "      <td>1</td>\n",
       "      <td>Futrelle, Mrs. Jacques Heath (Lily May Peel)</td>\n",
       "      <td>female</td>\n",
       "      <td>35.0</td>\n",
       "      <td>1</td>\n",
       "      <td>0</td>\n",
       "      <td>113803</td>\n",
       "      <td>53.1000</td>\n",
       "      <td>C123</td>\n",
       "      <td>S</td>\n",
       "    </tr>\n",
       "    <tr>\n",
       "      <th>4</th>\n",
       "      <td>5</td>\n",
       "      <td>0</td>\n",
       "      <td>3</td>\n",
       "      <td>Allen, Mr. William Henry</td>\n",
       "      <td>male</td>\n",
       "      <td>35.0</td>\n",
       "      <td>0</td>\n",
       "      <td>0</td>\n",
       "      <td>373450</td>\n",
       "      <td>8.0500</td>\n",
       "      <td>NaN</td>\n",
       "      <td>S</td>\n",
       "    </tr>\n",
       "  </tbody>\n",
       "</table>\n",
       "</div>"
      ],
      "text/plain": [
       "   PassengerId  Survived  Pclass  \\\n",
       "0            1         0       3   \n",
       "1            2         1       1   \n",
       "2            3         1       3   \n",
       "3            4         1       1   \n",
       "4            5         0       3   \n",
       "\n",
       "                                                Name     Sex   Age  SibSp  \\\n",
       "0                            Braund, Mr. Owen Harris    male  22.0      1   \n",
       "1  Cumings, Mrs. John Bradley (Florence Briggs Th...  female  38.0      1   \n",
       "2                             Heikkinen, Miss. Laina  female  26.0      0   \n",
       "3       Futrelle, Mrs. Jacques Heath (Lily May Peel)  female  35.0      1   \n",
       "4                           Allen, Mr. William Henry    male  35.0      0   \n",
       "\n",
       "   Parch            Ticket     Fare Cabin Embarked  \n",
       "0      0         A/5 21171   7.2500   NaN        S  \n",
       "1      0          PC 17599  71.2833   C85        C  \n",
       "2      0  STON/O2. 3101282   7.9250   NaN        S  \n",
       "3      0            113803  53.1000  C123        S  \n",
       "4      0            373450   8.0500   NaN        S  "
      ]
     },
     "execution_count": 3,
     "metadata": {},
     "output_type": "execute_result"
    }
   ],
   "source": [
    "data_train.head()"
   ]
  },
  {
   "cell_type": "code",
   "execution_count": 4,
   "id": "d866f53e",
   "metadata": {
    "execution": {
     "iopub.execute_input": "2022-12-28T07:03:17.310996Z",
     "iopub.status.busy": "2022-12-28T07:03:17.310647Z",
     "iopub.status.idle": "2022-12-28T07:03:17.350704Z",
     "shell.execute_reply": "2022-12-28T07:03:17.349513Z"
    },
    "papermill": {
     "duration": 0.048668,
     "end_time": "2022-12-28T07:03:17.352760",
     "exception": false,
     "start_time": "2022-12-28T07:03:17.304092",
     "status": "completed"
    },
    "tags": []
   },
   "outputs": [
    {
     "data": {
      "text/html": [
       "<div>\n",
       "<style scoped>\n",
       "    .dataframe tbody tr th:only-of-type {\n",
       "        vertical-align: middle;\n",
       "    }\n",
       "\n",
       "    .dataframe tbody tr th {\n",
       "        vertical-align: top;\n",
       "    }\n",
       "\n",
       "    .dataframe thead th {\n",
       "        text-align: right;\n",
       "    }\n",
       "</style>\n",
       "<table border=\"1\" class=\"dataframe\">\n",
       "  <thead>\n",
       "    <tr style=\"text-align: right;\">\n",
       "      <th></th>\n",
       "      <th>PassengerId</th>\n",
       "      <th>Survived</th>\n",
       "      <th>Pclass</th>\n",
       "      <th>Age</th>\n",
       "      <th>SibSp</th>\n",
       "      <th>Parch</th>\n",
       "      <th>Fare</th>\n",
       "    </tr>\n",
       "  </thead>\n",
       "  <tbody>\n",
       "    <tr>\n",
       "      <th>count</th>\n",
       "      <td>891.000000</td>\n",
       "      <td>891.000000</td>\n",
       "      <td>891.000000</td>\n",
       "      <td>714.000000</td>\n",
       "      <td>891.000000</td>\n",
       "      <td>891.000000</td>\n",
       "      <td>891.000000</td>\n",
       "    </tr>\n",
       "    <tr>\n",
       "      <th>mean</th>\n",
       "      <td>446.000000</td>\n",
       "      <td>0.383838</td>\n",
       "      <td>2.308642</td>\n",
       "      <td>29.699118</td>\n",
       "      <td>0.523008</td>\n",
       "      <td>0.381594</td>\n",
       "      <td>32.204208</td>\n",
       "    </tr>\n",
       "    <tr>\n",
       "      <th>std</th>\n",
       "      <td>257.353842</td>\n",
       "      <td>0.486592</td>\n",
       "      <td>0.836071</td>\n",
       "      <td>14.526497</td>\n",
       "      <td>1.102743</td>\n",
       "      <td>0.806057</td>\n",
       "      <td>49.693429</td>\n",
       "    </tr>\n",
       "    <tr>\n",
       "      <th>min</th>\n",
       "      <td>1.000000</td>\n",
       "      <td>0.000000</td>\n",
       "      <td>1.000000</td>\n",
       "      <td>0.420000</td>\n",
       "      <td>0.000000</td>\n",
       "      <td>0.000000</td>\n",
       "      <td>0.000000</td>\n",
       "    </tr>\n",
       "    <tr>\n",
       "      <th>25%</th>\n",
       "      <td>223.500000</td>\n",
       "      <td>0.000000</td>\n",
       "      <td>2.000000</td>\n",
       "      <td>20.125000</td>\n",
       "      <td>0.000000</td>\n",
       "      <td>0.000000</td>\n",
       "      <td>7.910400</td>\n",
       "    </tr>\n",
       "    <tr>\n",
       "      <th>50%</th>\n",
       "      <td>446.000000</td>\n",
       "      <td>0.000000</td>\n",
       "      <td>3.000000</td>\n",
       "      <td>28.000000</td>\n",
       "      <td>0.000000</td>\n",
       "      <td>0.000000</td>\n",
       "      <td>14.454200</td>\n",
       "    </tr>\n",
       "    <tr>\n",
       "      <th>75%</th>\n",
       "      <td>668.500000</td>\n",
       "      <td>1.000000</td>\n",
       "      <td>3.000000</td>\n",
       "      <td>38.000000</td>\n",
       "      <td>1.000000</td>\n",
       "      <td>0.000000</td>\n",
       "      <td>31.000000</td>\n",
       "    </tr>\n",
       "    <tr>\n",
       "      <th>max</th>\n",
       "      <td>891.000000</td>\n",
       "      <td>1.000000</td>\n",
       "      <td>3.000000</td>\n",
       "      <td>80.000000</td>\n",
       "      <td>8.000000</td>\n",
       "      <td>6.000000</td>\n",
       "      <td>512.329200</td>\n",
       "    </tr>\n",
       "  </tbody>\n",
       "</table>\n",
       "</div>"
      ],
      "text/plain": [
       "       PassengerId    Survived      Pclass         Age       SibSp  \\\n",
       "count   891.000000  891.000000  891.000000  714.000000  891.000000   \n",
       "mean    446.000000    0.383838    2.308642   29.699118    0.523008   \n",
       "std     257.353842    0.486592    0.836071   14.526497    1.102743   \n",
       "min       1.000000    0.000000    1.000000    0.420000    0.000000   \n",
       "25%     223.500000    0.000000    2.000000   20.125000    0.000000   \n",
       "50%     446.000000    0.000000    3.000000   28.000000    0.000000   \n",
       "75%     668.500000    1.000000    3.000000   38.000000    1.000000   \n",
       "max     891.000000    1.000000    3.000000   80.000000    8.000000   \n",
       "\n",
       "            Parch        Fare  \n",
       "count  891.000000  891.000000  \n",
       "mean     0.381594   32.204208  \n",
       "std      0.806057   49.693429  \n",
       "min      0.000000    0.000000  \n",
       "25%      0.000000    7.910400  \n",
       "50%      0.000000   14.454200  \n",
       "75%      0.000000   31.000000  \n",
       "max      6.000000  512.329200  "
      ]
     },
     "execution_count": 4,
     "metadata": {},
     "output_type": "execute_result"
    }
   ],
   "source": [
    "data_train.describe()"
   ]
  },
  {
   "cell_type": "code",
   "execution_count": 5,
   "id": "91fb82ed",
   "metadata": {
    "execution": {
     "iopub.execute_input": "2022-12-28T07:03:17.364541Z",
     "iopub.status.busy": "2022-12-28T07:03:17.364206Z",
     "iopub.status.idle": "2022-12-28T07:03:17.373863Z",
     "shell.execute_reply": "2022-12-28T07:03:17.372967Z"
    },
    "papermill": {
     "duration": 0.018149,
     "end_time": "2022-12-28T07:03:17.376319",
     "exception": false,
     "start_time": "2022-12-28T07:03:17.358170",
     "status": "completed"
    },
    "tags": []
   },
   "outputs": [
    {
     "data": {
      "text/plain": [
       "(['Ticket', 'Name', 'Embarked', 'Cabin'], ['Sex'])"
      ]
     },
     "execution_count": 5,
     "metadata": {},
     "output_type": "execute_result"
    }
   ],
   "source": [
    "s=data_train.dtypes=='object'\n",
    "cols=s[s].index\n",
    "good_cols=[col for col in cols if\n",
    "           set(data_train[col]).issubset(set(data_valid[col]))]\n",
    "bad_cols=list(set(cols)-set(good_cols))\n",
    "bad_cols,good_cols"
   ]
  },
  {
   "cell_type": "markdown",
   "id": "e39ac797",
   "metadata": {
    "papermill": {
     "duration": 0.005305,
     "end_time": "2022-12-28T07:03:17.387679",
     "exception": false,
     "start_time": "2022-12-28T07:03:17.382374",
     "status": "completed"
    },
    "tags": []
   },
   "source": [
    "The bad columns for ordinal and one hot encoding are **'Name', 'Ticket', 'Cabin'** , it is better to drop them as they don't contribute much to the model but only create problems while encoding, the same can be verified by the below cell"
   ]
  },
  {
   "cell_type": "code",
   "execution_count": 6,
   "id": "284bcbe4",
   "metadata": {
    "execution": {
     "iopub.execute_input": "2022-12-28T07:03:17.401994Z",
     "iopub.status.busy": "2022-12-28T07:03:17.401621Z",
     "iopub.status.idle": "2022-12-28T07:03:17.406859Z",
     "shell.execute_reply": "2022-12-28T07:03:17.406030Z"
    },
    "papermill": {
     "duration": 0.015505,
     "end_time": "2022-12-28T07:03:17.408735",
     "exception": false,
     "start_time": "2022-12-28T07:03:17.393230",
     "status": "completed"
    },
    "tags": []
   },
   "outputs": [],
   "source": [
    "s1=set(data_train['Cabin'].unique())\n",
    "s2=set(data_valid[\"Cabin\"].unique())\n",
    "s1.issuperset(s2)\n",
    "bad_cols.remove(\"Embarked\")\n",
    "good_cols.append(\"Embarked\")"
   ]
  },
  {
   "cell_type": "code",
   "execution_count": 7,
   "id": "a7152915",
   "metadata": {
    "execution": {
     "iopub.execute_input": "2022-12-28T07:03:17.425922Z",
     "iopub.status.busy": "2022-12-28T07:03:17.422305Z",
     "iopub.status.idle": "2022-12-28T07:03:17.434495Z",
     "shell.execute_reply": "2022-12-28T07:03:17.433421Z"
    },
    "papermill": {
     "duration": 0.022122,
     "end_time": "2022-12-28T07:03:17.436920",
     "exception": false,
     "start_time": "2022-12-28T07:03:17.414798",
     "status": "completed"
    },
    "tags": []
   },
   "outputs": [],
   "source": [
    "data_train.drop(bad_cols,axis=1,inplace=True)\n",
    "data_valid.drop(bad_cols,axis=1,inplace=True)"
   ]
  },
  {
   "cell_type": "code",
   "execution_count": 8,
   "id": "24deffb3",
   "metadata": {
    "execution": {
     "iopub.execute_input": "2022-12-28T07:03:17.449276Z",
     "iopub.status.busy": "2022-12-28T07:03:17.448901Z",
     "iopub.status.idle": "2022-12-28T07:03:18.406718Z",
     "shell.execute_reply": "2022-12-28T07:03:18.405796Z"
    },
    "papermill": {
     "duration": 0.966691,
     "end_time": "2022-12-28T07:03:18.409126",
     "exception": false,
     "start_time": "2022-12-28T07:03:17.442435",
     "status": "completed"
    },
    "tags": []
   },
   "outputs": [],
   "source": [
    "from sklearn.preprocessing import OrdinalEncoder\n",
    "enc=OrdinalEncoder()\n",
    "data_train[good_cols]=enc.fit_transform(data_train[good_cols])\n",
    "data_valid[good_cols]=enc.transform(data_valid[good_cols])"
   ]
  },
  {
   "cell_type": "code",
   "execution_count": 9,
   "id": "fed57505",
   "metadata": {
    "execution": {
     "iopub.execute_input": "2022-12-28T07:03:18.422655Z",
     "iopub.status.busy": "2022-12-28T07:03:18.422244Z",
     "iopub.status.idle": "2022-12-28T07:03:18.440880Z",
     "shell.execute_reply": "2022-12-28T07:03:18.439333Z"
    },
    "papermill": {
     "duration": 0.0278,
     "end_time": "2022-12-28T07:03:18.443134",
     "exception": false,
     "start_time": "2022-12-28T07:03:18.415334",
     "status": "completed"
    },
    "tags": []
   },
   "outputs": [
    {
     "data": {
      "text/html": [
       "<div>\n",
       "<style scoped>\n",
       "    .dataframe tbody tr th:only-of-type {\n",
       "        vertical-align: middle;\n",
       "    }\n",
       "\n",
       "    .dataframe tbody tr th {\n",
       "        vertical-align: top;\n",
       "    }\n",
       "\n",
       "    .dataframe thead th {\n",
       "        text-align: right;\n",
       "    }\n",
       "</style>\n",
       "<table border=\"1\" class=\"dataframe\">\n",
       "  <thead>\n",
       "    <tr style=\"text-align: right;\">\n",
       "      <th></th>\n",
       "      <th>Survived</th>\n",
       "      <th>Pclass</th>\n",
       "      <th>Sex</th>\n",
       "      <th>Age</th>\n",
       "      <th>SibSp</th>\n",
       "      <th>Parch</th>\n",
       "      <th>Fare</th>\n",
       "      <th>Embarked</th>\n",
       "    </tr>\n",
       "  </thead>\n",
       "  <tbody>\n",
       "    <tr>\n",
       "      <th>0</th>\n",
       "      <td>0</td>\n",
       "      <td>3</td>\n",
       "      <td>1.0</td>\n",
       "      <td>22.0</td>\n",
       "      <td>1</td>\n",
       "      <td>0</td>\n",
       "      <td>7.2500</td>\n",
       "      <td>2.0</td>\n",
       "    </tr>\n",
       "    <tr>\n",
       "      <th>1</th>\n",
       "      <td>1</td>\n",
       "      <td>1</td>\n",
       "      <td>0.0</td>\n",
       "      <td>38.0</td>\n",
       "      <td>1</td>\n",
       "      <td>0</td>\n",
       "      <td>71.2833</td>\n",
       "      <td>0.0</td>\n",
       "    </tr>\n",
       "    <tr>\n",
       "      <th>2</th>\n",
       "      <td>1</td>\n",
       "      <td>3</td>\n",
       "      <td>0.0</td>\n",
       "      <td>26.0</td>\n",
       "      <td>0</td>\n",
       "      <td>0</td>\n",
       "      <td>7.9250</td>\n",
       "      <td>2.0</td>\n",
       "    </tr>\n",
       "    <tr>\n",
       "      <th>3</th>\n",
       "      <td>1</td>\n",
       "      <td>1</td>\n",
       "      <td>0.0</td>\n",
       "      <td>35.0</td>\n",
       "      <td>1</td>\n",
       "      <td>0</td>\n",
       "      <td>53.1000</td>\n",
       "      <td>2.0</td>\n",
       "    </tr>\n",
       "    <tr>\n",
       "      <th>4</th>\n",
       "      <td>0</td>\n",
       "      <td>3</td>\n",
       "      <td>1.0</td>\n",
       "      <td>35.0</td>\n",
       "      <td>0</td>\n",
       "      <td>0</td>\n",
       "      <td>8.0500</td>\n",
       "      <td>2.0</td>\n",
       "    </tr>\n",
       "  </tbody>\n",
       "</table>\n",
       "</div>"
      ],
      "text/plain": [
       "   Survived  Pclass  Sex   Age  SibSp  Parch     Fare  Embarked\n",
       "0         0       3  1.0  22.0      1      0   7.2500       2.0\n",
       "1         1       1  0.0  38.0      1      0  71.2833       0.0\n",
       "2         1       3  0.0  26.0      0      0   7.9250       2.0\n",
       "3         1       1  0.0  35.0      1      0  53.1000       2.0\n",
       "4         0       3  1.0  35.0      0      0   8.0500       2.0"
      ]
     },
     "execution_count": 9,
     "metadata": {},
     "output_type": "execute_result"
    }
   ],
   "source": [
    "data_train.drop(['PassengerId'],axis=1,inplace=True)\n",
    "data_valid_copy=data_valid.drop(['PassengerId'],axis=1)\n",
    "data_train.head()"
   ]
  },
  {
   "cell_type": "markdown",
   "id": "684a37fd",
   "metadata": {
    "papermill": {
     "duration": 0.005222,
     "end_time": "2022-12-28T07:03:18.453978",
     "exception": false,
     "start_time": "2022-12-28T07:03:18.448756",
     "status": "completed"
    },
    "tags": []
   },
   "source": [
    "# Data correlation"
   ]
  },
  {
   "cell_type": "code",
   "execution_count": 10,
   "id": "554bffe5",
   "metadata": {
    "execution": {
     "iopub.execute_input": "2022-12-28T07:03:18.466387Z",
     "iopub.status.busy": "2022-12-28T07:03:18.466044Z",
     "iopub.status.idle": "2022-12-28T07:03:18.917470Z",
     "shell.execute_reply": "2022-12-28T07:03:18.916072Z"
    },
    "papermill": {
     "duration": 0.45989,
     "end_time": "2022-12-28T07:03:18.919313",
     "exception": false,
     "start_time": "2022-12-28T07:03:18.459423",
     "status": "completed"
    },
    "tags": []
   },
   "outputs": [
    {
     "data": {
      "text/html": [
       "<div>\n",
       "<style scoped>\n",
       "    .dataframe tbody tr th:only-of-type {\n",
       "        vertical-align: middle;\n",
       "    }\n",
       "\n",
       "    .dataframe tbody tr th {\n",
       "        vertical-align: top;\n",
       "    }\n",
       "\n",
       "    .dataframe thead th {\n",
       "        text-align: right;\n",
       "    }\n",
       "</style>\n",
       "<table border=\"1\" class=\"dataframe\">\n",
       "  <thead>\n",
       "    <tr style=\"text-align: right;\">\n",
       "      <th></th>\n",
       "      <th>Survived</th>\n",
       "      <th>Pclass</th>\n",
       "      <th>Sex</th>\n",
       "      <th>Age</th>\n",
       "      <th>SibSp</th>\n",
       "      <th>Parch</th>\n",
       "      <th>Fare</th>\n",
       "      <th>Embarked</th>\n",
       "    </tr>\n",
       "  </thead>\n",
       "  <tbody>\n",
       "    <tr>\n",
       "      <th>Survived</th>\n",
       "      <td>1.000000</td>\n",
       "      <td>-0.338481</td>\n",
       "      <td>-0.543351</td>\n",
       "      <td>-0.077221</td>\n",
       "      <td>-0.035322</td>\n",
       "      <td>0.081629</td>\n",
       "      <td>0.257307</td>\n",
       "      <td>-0.169718</td>\n",
       "    </tr>\n",
       "    <tr>\n",
       "      <th>Pclass</th>\n",
       "      <td>-0.338481</td>\n",
       "      <td>1.000000</td>\n",
       "      <td>0.131900</td>\n",
       "      <td>-0.369226</td>\n",
       "      <td>0.083081</td>\n",
       "      <td>0.018443</td>\n",
       "      <td>-0.549500</td>\n",
       "      <td>0.164681</td>\n",
       "    </tr>\n",
       "    <tr>\n",
       "      <th>Sex</th>\n",
       "      <td>-0.543351</td>\n",
       "      <td>0.131900</td>\n",
       "      <td>1.000000</td>\n",
       "      <td>0.093254</td>\n",
       "      <td>-0.114631</td>\n",
       "      <td>-0.245489</td>\n",
       "      <td>-0.182333</td>\n",
       "      <td>0.110320</td>\n",
       "    </tr>\n",
       "    <tr>\n",
       "      <th>Age</th>\n",
       "      <td>-0.077221</td>\n",
       "      <td>-0.369226</td>\n",
       "      <td>0.093254</td>\n",
       "      <td>1.000000</td>\n",
       "      <td>-0.308247</td>\n",
       "      <td>-0.189119</td>\n",
       "      <td>0.096067</td>\n",
       "      <td>-0.032565</td>\n",
       "    </tr>\n",
       "    <tr>\n",
       "      <th>SibSp</th>\n",
       "      <td>-0.035322</td>\n",
       "      <td>0.083081</td>\n",
       "      <td>-0.114631</td>\n",
       "      <td>-0.308247</td>\n",
       "      <td>1.000000</td>\n",
       "      <td>0.414838</td>\n",
       "      <td>0.159651</td>\n",
       "      <td>0.068900</td>\n",
       "    </tr>\n",
       "    <tr>\n",
       "      <th>Parch</th>\n",
       "      <td>0.081629</td>\n",
       "      <td>0.018443</td>\n",
       "      <td>-0.245489</td>\n",
       "      <td>-0.189119</td>\n",
       "      <td>0.414838</td>\n",
       "      <td>1.000000</td>\n",
       "      <td>0.216225</td>\n",
       "      <td>0.040449</td>\n",
       "    </tr>\n",
       "    <tr>\n",
       "      <th>Fare</th>\n",
       "      <td>0.257307</td>\n",
       "      <td>-0.549500</td>\n",
       "      <td>-0.182333</td>\n",
       "      <td>0.096067</td>\n",
       "      <td>0.159651</td>\n",
       "      <td>0.216225</td>\n",
       "      <td>1.000000</td>\n",
       "      <td>-0.226311</td>\n",
       "    </tr>\n",
       "    <tr>\n",
       "      <th>Embarked</th>\n",
       "      <td>-0.169718</td>\n",
       "      <td>0.164681</td>\n",
       "      <td>0.110320</td>\n",
       "      <td>-0.032565</td>\n",
       "      <td>0.068900</td>\n",
       "      <td>0.040449</td>\n",
       "      <td>-0.226311</td>\n",
       "      <td>1.000000</td>\n",
       "    </tr>\n",
       "  </tbody>\n",
       "</table>\n",
       "</div>"
      ],
      "text/plain": [
       "          Survived    Pclass       Sex       Age     SibSp     Parch  \\\n",
       "Survived  1.000000 -0.338481 -0.543351 -0.077221 -0.035322  0.081629   \n",
       "Pclass   -0.338481  1.000000  0.131900 -0.369226  0.083081  0.018443   \n",
       "Sex      -0.543351  0.131900  1.000000  0.093254 -0.114631 -0.245489   \n",
       "Age      -0.077221 -0.369226  0.093254  1.000000 -0.308247 -0.189119   \n",
       "SibSp    -0.035322  0.083081 -0.114631 -0.308247  1.000000  0.414838   \n",
       "Parch     0.081629  0.018443 -0.245489 -0.189119  0.414838  1.000000   \n",
       "Fare      0.257307 -0.549500 -0.182333  0.096067  0.159651  0.216225   \n",
       "Embarked -0.169718  0.164681  0.110320 -0.032565  0.068900  0.040449   \n",
       "\n",
       "              Fare  Embarked  \n",
       "Survived  0.257307 -0.169718  \n",
       "Pclass   -0.549500  0.164681  \n",
       "Sex      -0.182333  0.110320  \n",
       "Age       0.096067 -0.032565  \n",
       "SibSp     0.159651  0.068900  \n",
       "Parch     0.216225  0.040449  \n",
       "Fare      1.000000 -0.226311  \n",
       "Embarked -0.226311  1.000000  "
      ]
     },
     "execution_count": 10,
     "metadata": {},
     "output_type": "execute_result"
    },
    {
     "data": {
      "image/png": "[encoded data removed]",
      "text/plain": [
       "<Figure size 432x288 with 2 Axes>"
      ]
     },
     "metadata": {
      "needs_background": "light"
     },
     "output_type": "display_data"
    }
   ],
   "source": [
    "import seaborn as sns\n",
    "cor=data_train.corr()\n",
    "sns.heatmap(cor)\n",
    "cor"
   ]
  },
  {
   "cell_type": "code",
   "execution_count": 11,
   "id": "278a921a",
   "metadata": {
    "execution": {
     "iopub.execute_input": "2022-12-28T07:03:18.933417Z",
     "iopub.status.busy": "2022-12-28T07:03:18.933065Z",
     "iopub.status.idle": "2022-12-28T07:03:20.308639Z",
     "shell.execute_reply": "2022-12-28T07:03:20.307280Z"
    },
    "papermill": {
     "duration": 1.385198,
     "end_time": "2022-12-28T07:03:20.311167",
     "exception": false,
     "start_time": "2022-12-28T07:03:18.925969",
     "status": "completed"
    },
    "tags": []
   },
   "outputs": [
    {
     "data": {
      "text/plain": [
       "array([[<AxesSubplot:title={'center':'Survived'}>,\n",
       "        <AxesSubplot:title={'center':'Pclass'}>,\n",
       "        <AxesSubplot:title={'center':'Sex'}>],\n",
       "       [<AxesSubplot:title={'center':'Age'}>,\n",
       "        <AxesSubplot:title={'center':'SibSp'}>,\n",
       "        <AxesSubplot:title={'center':'Parch'}>],\n",
       "       [<AxesSubplot:title={'center':'Fare'}>,\n",
       "        <AxesSubplot:title={'center':'Embarked'}>, <AxesSubplot:>]],\n",
       "      dtype=object)"
      ]
     },
     "execution_count": 11,
     "metadata": {},
     "output_type": "execute_result"
    },
    {
     "data": {
      "image/png": "[encoded data removed]",
      "text/plain": [
       "<Figure size 2160x2160 with 9 Axes>"
      ]
     },
     "metadata": {
      "needs_background": "light"
     },
     "output_type": "display_data"
    }
   ],
   "source": [
    "data_train.hist(figsize=(30,30))"
   ]
  },
  {
   "cell_type": "code",
   "execution_count": 12,
   "id": "724a6f25",
   "metadata": {
    "execution": {
     "iopub.execute_input": "2022-12-28T07:03:20.326924Z",
     "iopub.status.busy": "2022-12-28T07:03:20.326533Z",
     "iopub.status.idle": "2022-12-28T07:03:20.337970Z",
     "shell.execute_reply": "2022-12-28T07:03:20.336861Z"
    },
    "papermill": {
     "duration": 0.023266,
     "end_time": "2022-12-28T07:03:20.341590",
     "exception": false,
     "start_time": "2022-12-28T07:03:20.318324",
     "status": "completed"
    },
    "tags": []
   },
   "outputs": [
    {
     "data": {
      "text/plain": [
       "(['Age', 'Embarked'], ['Age', 'Fare'])"
      ]
     },
     "execution_count": 12,
     "metadata": {},
     "output_type": "execute_result"
    }
   ],
   "source": [
    "cols_missing_train=[cols for cols in data_train.columns if\n",
    "              data_train[cols].isnull().any()]\n",
    "cols_missing_valid=[cols for cols in data_valid_copy.columns if\n",
    "              data_valid[cols].isnull().any()]\n",
    "cols_missing_train,cols_missing_valid"
   ]
  },
  {
   "cell_type": "markdown",
   "id": "0e77a53d",
   "metadata": {
    "papermill": {
     "duration": 0.006881,
     "end_time": "2022-12-28T07:03:20.356094",
     "exception": false,
     "start_time": "2022-12-28T07:03:20.349213",
     "status": "completed"
    },
    "tags": []
   },
   "source": [
    "Since **'Age'** is missing values and it is not higly correlated with the target, we can procceed by dropping it"
   ]
  },
  {
   "cell_type": "code",
   "execution_count": 13,
   "id": "4107a5ca",
   "metadata": {
    "execution": {
     "iopub.execute_input": "2022-12-28T07:03:20.372002Z",
     "iopub.status.busy": "2022-12-28T07:03:20.371595Z",
     "iopub.status.idle": "2022-12-28T07:03:20.378848Z",
     "shell.execute_reply": "2022-12-28T07:03:20.378064Z"
    },
    "papermill": {
     "duration": 0.017875,
     "end_time": "2022-12-28T07:03:20.381203",
     "exception": false,
     "start_time": "2022-12-28T07:03:20.363328",
     "status": "completed"
    },
    "tags": []
   },
   "outputs": [],
   "source": [
    "data_train.drop([\"Age\"],axis=1,inplace=True)\n",
    "data_valid_copy.drop([\"Age\"],axis=1,inplace=True)"
   ]
  },
  {
   "cell_type": "code",
   "execution_count": 14,
   "id": "46590c4a",
   "metadata": {
    "execution": {
     "iopub.execute_input": "2022-12-28T07:03:20.397988Z",
     "iopub.status.busy": "2022-12-28T07:03:20.397261Z",
     "iopub.status.idle": "2022-12-28T07:03:20.569108Z",
     "shell.execute_reply": "2022-12-28T07:03:20.568156Z"
    },
    "papermill": {
     "duration": 0.183519,
     "end_time": "2022-12-28T07:03:20.572183",
     "exception": false,
     "start_time": "2022-12-28T07:03:20.388664",
     "status": "completed"
    },
    "tags": []
   },
   "outputs": [],
   "source": [
    "from sklearn.impute import SimpleImputer\n",
    "impu=SimpleImputer()\n",
    "data_valid_copy=impu.fit_transform(data_valid_copy)\n",
    "data_train.fillna(0,inplace=True)"
   ]
  },
  {
   "cell_type": "code",
   "execution_count": 15,
   "id": "7525651c",
   "metadata": {
    "execution": {
     "iopub.execute_input": "2022-12-28T07:03:20.588750Z",
     "iopub.status.busy": "2022-12-28T07:03:20.588374Z",
     "iopub.status.idle": "2022-12-28T07:03:20.605716Z",
     "shell.execute_reply": "2022-12-28T07:03:20.604666Z"
    },
    "papermill": {
     "duration": 0.027619,
     "end_time": "2022-12-28T07:03:20.607663",
     "exception": false,
     "start_time": "2022-12-28T07:03:20.580044",
     "status": "completed"
    },
    "tags": []
   },
   "outputs": [
    {
     "data": {
      "text/html": [
       "<div>\n",
       "<style scoped>\n",
       "    .dataframe tbody tr th:only-of-type {\n",
       "        vertical-align: middle;\n",
       "    }\n",
       "\n",
       "    .dataframe tbody tr th {\n",
       "        vertical-align: top;\n",
       "    }\n",
       "\n",
       "    .dataframe thead th {\n",
       "        text-align: right;\n",
       "    }\n",
       "</style>\n",
       "<table border=\"1\" class=\"dataframe\">\n",
       "  <thead>\n",
       "    <tr style=\"text-align: right;\">\n",
       "      <th></th>\n",
       "      <th>Pclass</th>\n",
       "      <th>Sex</th>\n",
       "      <th>SibSp</th>\n",
       "      <th>Parch</th>\n",
       "      <th>Fare</th>\n",
       "      <th>Embarked</th>\n",
       "    </tr>\n",
       "  </thead>\n",
       "  <tbody>\n",
       "    <tr>\n",
       "      <th>322</th>\n",
       "      <td>2</td>\n",
       "      <td>0.0</td>\n",
       "      <td>0</td>\n",
       "      <td>0</td>\n",
       "      <td>12.3500</td>\n",
       "      <td>1.0</td>\n",
       "    </tr>\n",
       "    <tr>\n",
       "      <th>718</th>\n",
       "      <td>3</td>\n",
       "      <td>1.0</td>\n",
       "      <td>0</td>\n",
       "      <td>0</td>\n",
       "      <td>15.5000</td>\n",
       "      <td>1.0</td>\n",
       "    </tr>\n",
       "    <tr>\n",
       "      <th>876</th>\n",
       "      <td>3</td>\n",
       "      <td>1.0</td>\n",
       "      <td>0</td>\n",
       "      <td>0</td>\n",
       "      <td>9.8458</td>\n",
       "      <td>2.0</td>\n",
       "    </tr>\n",
       "    <tr>\n",
       "      <th>649</th>\n",
       "      <td>3</td>\n",
       "      <td>0.0</td>\n",
       "      <td>0</td>\n",
       "      <td>0</td>\n",
       "      <td>7.5500</td>\n",
       "      <td>2.0</td>\n",
       "    </tr>\n",
       "    <tr>\n",
       "      <th>97</th>\n",
       "      <td>1</td>\n",
       "      <td>1.0</td>\n",
       "      <td>0</td>\n",
       "      <td>1</td>\n",
       "      <td>63.3583</td>\n",
       "      <td>0.0</td>\n",
       "    </tr>\n",
       "  </tbody>\n",
       "</table>\n",
       "</div>"
      ],
      "text/plain": [
       "     Pclass  Sex  SibSp  Parch     Fare  Embarked\n",
       "322       2  0.0      0      0  12.3500       1.0\n",
       "718       3  1.0      0      0  15.5000       1.0\n",
       "876       3  1.0      0      0   9.8458       2.0\n",
       "649       3  0.0      0      0   7.5500       2.0\n",
       "97        1  1.0      0      1  63.3583       0.0"
      ]
     },
     "execution_count": 15,
     "metadata": {},
     "output_type": "execute_result"
    }
   ],
   "source": [
    "from sklearn.model_selection import train_test_split\n",
    "y=data_train.Survived\n",
    "X=data_train.drop(['Survived'],axis=1)\n",
    "X_train,X_test,y_train,y_test=train_test_split(X,y)\n",
    "X_train.head()"
   ]
  },
  {
   "cell_type": "code",
   "execution_count": 16,
   "id": "ad683ba6",
   "metadata": {
    "execution": {
     "iopub.execute_input": "2022-12-28T07:03:20.623590Z",
     "iopub.status.busy": "2022-12-28T07:03:20.622961Z",
     "iopub.status.idle": "2022-12-28T07:03:20.653034Z",
     "shell.execute_reply": "2022-12-28T07:03:20.651487Z"
    },
    "papermill": {
     "duration": 0.0405,
     "end_time": "2022-12-28T07:03:20.655337",
     "exception": false,
     "start_time": "2022-12-28T07:03:20.614837",
     "status": "completed"
    },
    "tags": []
   },
   "outputs": [],
   "source": [
    "from sklearn.linear_model import LogisticRegression\n",
    "model=LogisticRegression()\n",
    "model.fit(X_train,y_train)\n",
    "prdns=model.predict(X_test)"
   ]
  },
  {
   "cell_type": "code",
   "execution_count": 17,
   "id": "9068ddaa",
   "metadata": {
    "execution": {
     "iopub.execute_input": "2022-12-28T07:03:20.671057Z",
     "iopub.status.busy": "2022-12-28T07:03:20.670720Z",
     "iopub.status.idle": "2022-12-28T07:03:20.680540Z",
     "shell.execute_reply": "2022-12-28T07:03:20.679492Z"
    },
    "papermill": {
     "duration": 0.019804,
     "end_time": "2022-12-28T07:03:20.682446",
     "exception": false,
     "start_time": "2022-12-28T07:03:20.662642",
     "status": "completed"
    },
    "tags": []
   },
   "outputs": [
    {
     "data": {
      "text/plain": [
       "(7.589309575332859, 0.21973094170403587)"
      ]
     },
     "execution_count": 17,
     "metadata": {},
     "output_type": "execute_result"
    }
   ],
   "source": [
    "from sklearn.metrics import log_loss,mean_squared_error\n",
    "loss=log_loss(y_test,prdns)\n",
    "mse=mean_squared_error(y_test,prdns)\n",
    "loss,mse"
   ]
  },
  {
   "cell_type": "code",
   "execution_count": 18,
   "id": "b2d6ad8a",
   "metadata": {
    "execution": {
     "iopub.execute_input": "2022-12-28T07:03:20.698095Z",
     "iopub.status.busy": "2022-12-28T07:03:20.697777Z",
     "iopub.status.idle": "2022-12-28T07:03:20.710861Z",
     "shell.execute_reply": "2022-12-28T07:03:20.709426Z"
    },
    "papermill": {
     "duration": 0.023903,
     "end_time": "2022-12-28T07:03:20.713602",
     "exception": false,
     "start_time": "2022-12-28T07:03:20.689699",
     "status": "completed"
    },
    "tags": []
   },
   "outputs": [
    {
     "name": "stdout",
     "output_type": "stream",
     "text": [
      "Your submission was successfully saved!\n"
     ]
    },
    {
     "name": "stderr",
     "output_type": "stream",
     "text": [
      "/opt/conda/lib/python3.7/site-packages/sklearn/base.py:451: UserWarning: X does not have valid feature names, but LogisticRegression was fitted with feature names\n",
      "  \"X does not have valid feature names, but\"\n"
     ]
    }
   ],
   "source": [
    "predictions=model.predict(data_valid_copy)\n",
    "output = pd.DataFrame({'PassengerId': data_valid.PassengerId, 'Survived': predictions})\n",
    "output.to_csv('submission.csv', index=False)\n",
    "print(\"Your submission was successfully saved!\")"
   ]
  }
 ],
 "metadata": {
  "kernelspec": {
   "display_name": "Python 3",
   "language": "python",
   "name": "python3"
  },
  "language_info": {
   "codemirror_mode": {
    "name": "ipython",
    "version": 3
   },
   "file_extension": ".py",
   "mimetype": "text/x-python",
   "name": "python",
   "nbconvert_exporter": "python",
   "pygments_lexer": "ipython3",
   "version": "3.7.12"
  },
  "papermill": {
   "default_parameters": {},
   "duration": 11.997629,
   "end_time": "2022-12-28T07:03:21.544336",
   "environment_variables": {},
   "exception": null,
   "input_path": "__notebook__.ipynb",
   "output_path": "__notebook__.ipynb",
   "parameters": {},
   "start_time": "2022-12-28T07:03:09.546707",
   "version": "2.3.4"
  }
 },
 "nbformat": 4,
 "nbformat_minor": 5
}
